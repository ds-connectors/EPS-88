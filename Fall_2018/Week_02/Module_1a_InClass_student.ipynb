{
 "cells": [
  {
   "cell_type": "markdown",
   "metadata": {},
   "source": [
    "# Module 1, Week 1\n",
    "\n",
    "Load .txt data and visualize it!\n",
    "\n",
    "**Useful chapters from Data 8 textbook to review:** _Chapters 3-5 and 7. https://www.inferentialthinking.com/chapters/intro_\n",
    "\n",
    "**Before class reading:**\n",
    "- Week 1 reading assignment \"The Dynamic Earth\" and \"EARTH SCIENCE LITERACY: The Big Ideas and Supporting Concepts of Earth Science\"\n",
    "- _Python for Data Analysis pgs. 167-174, Ch.9_\n",
    "- _Fundamentals of Geophysics Ch 1.2_\n",
    "\n",
    "**Last week we:**\n",
    "- Went over the syllabus (https://bcourses.berkeley.edu/courses/1474063/assignments/syllabus).\n",
    "- Took a whirlwind tour of Earth Sciences and the types of data used in geophysics.\n",
    "- Saw how to make basic maps with cartopy library. Discussed advantages and disadvantages of different map projections.\n",
    "\n",
    "**Our goals for today:**\n",
    "- Plot histograms, cumulative distributions, and global maps.\n",
    "- Load and visualize global topography.\n",
    "- Learn about the topography of Earth (hypsometric curve).\n",
    "- Load and visualize global seafloor age.\n",
    "\n"
   ]
  },
  {
   "cell_type": "markdown",
   "metadata": {},
   "source": [
    "# Exercise 1, Elevation of Earth's Surface\n",
    "\n",
    "In class exercise, full credit for attempts, answer the questions in break-out sessions with your group\n",
    "\n",
    "Replace the ...'s and xxx's as we go through this notebook together."
   ]
  },
  {
   "cell_type": "markdown",
   "metadata": {},
   "source": [
    "## Setup\n",
    "\n",
    "Run this cell as it is to setup your environment."
   ]
  },
  {
   "cell_type": "code",
   "execution_count": 2,
   "metadata": {},
   "outputs": [],
   "source": [
    "import  numpy  as  np\n",
    "import  matplotlib.pyplot  as plt\n",
    "import pandas as pd\n",
    "from matplotlib import cm\n",
    "from cartopy import config\n",
    "import cartopy.crs as ccrs"
   ]
  },
  {
   "cell_type": "markdown",
   "metadata": {},
   "source": [
    "## Step 1) Open the data file and have a look\n",
    "\n",
    "Use the text editor of your choice and open the text file. Make sure it's the file you want. \n",
    "\n",
    "Take note of: \n",
    "-  number of header rows\n",
    "-  number of columns and rows\n",
    "-  are they string/integer/float types\n",
    "-  what is the delimiter"
   ]
  },
  {
   "cell_type": "markdown",
   "metadata": {},
   "source": [
    "Usually this will be straight foward. For example:\n",
    "\n",
    "<img src=\"Figures/csv_example.png\" width=\"600\">"
   ]
  },
  {
   "cell_type": "markdown",
   "metadata": {},
   "source": [
    "Or slightly more complicated, but still do-able:\n",
    "\n",
    "<img src=\"Figures/more_complicated_example.png\" width=\"700\">"
   ]
  },
  {
   "cell_type": "markdown",
   "metadata": {},
   "source": [
    "Sometimes you'll mess up and get something crazy.\n",
    "\n",
    "<img src=\"Figures/AHHH_example.png\" width=\"700\">\n",
    "\n"
   ]
  },
  {
   "cell_type": "markdown",
   "metadata": {},
   "source": [
    "It's much better to catch this early than to struggle trying to troubleshoot.\n",
    "\n",
    "<img src=\"Figures/meme_AHHH_example.png\" width=\"700\">"
   ]
  },
  {
   "cell_type": "markdown",
   "metadata": {},
   "source": [
    "## Reading data in text format"
   ]
  },
  {
   "cell_type": "markdown",
   "metadata": {},
   "source": [
    "The functions we will use most for reading data in text format are `np.loadtxt`,`pd.read_csv`, and `pd.read_table`. They are similar except `pd.read_csv` has a default comma delimiter and `pd.read_table` has tab (`'\\t'`) as its default delimiter.\n",
    "\n",
    "The syntax will look something like: `pd.read_csv('filename.csv',header=2, sep=',',names=['Date','Time','Location'])`\n",
    "\n",
    "<img src=\"Figures/Table_6_2.png\" width=\"700\">\n",
    "\n",
    "> Source: Python for Data Analysis, McKinney"
   ]
  },
  {
   "cell_type": "markdown",
   "metadata": {},
   "source": [
    "### Load topography data"
   ]
  },
  {
   "cell_type": "markdown",
   "metadata": {},
   "source": [
    "First we'll load the files of global topography that we will be analyzing. There are three files: an array of latitudes (size 540 x 1), an array of longitudes (size 1081 x 1), and a gridded array of topography (size 540 x 1081)."
   ]
  },
  {
   "cell_type": "code",
   "execution_count": 4,
   "metadata": {},
   "outputs": [],
   "source": [
    "# Load the elevation/seafloor depth data\n",
    "lats=np.loadtxt('etopo20lats.txt') \n",
    "lons=np.loadtxt('etopo20lons.txt')\n",
    "topo_grid=np.loadtxt('etopo20data.txt')\n"
   ]
  },
  {
   "cell_type": "markdown",
   "metadata": {},
   "source": [
    "Again, it helps to see the data, so `print` and check it's what you expect."
   ]
  },
  {
   "cell_type": "code",
   "execution_count": 5,
   "metadata": {},
   "outputs": [
    {
     "name": "stdout",
     "output_type": "stream",
     "text": [
      "[-89.8333333 -89.5       -89.1666667 -88.8333334 -88.5000001 -88.1666668\n",
      " -87.8333335 -87.5000002 -87.1666669 -86.8333336 -86.5000003 -86.166667\n",
      " -85.8333337 -85.5000004 -85.1666671 -84.8333338 -84.5000005 -84.1666672\n",
      " -83.8333339 -83.5000006 -83.1666673 -82.833334  -82.5000007 -82.1666674\n",
      " -81.8333341 -81.5000008 -81.1666675 -80.8333342 -80.5000009 -80.1666676\n",
      " -79.8333343 -79.500001  -79.1666677 -78.8333344 -78.5000011 -78.1666678\n",
      " -77.8333345 -77.5000012 -77.1666679 -76.8333346 -76.5000013 -76.166668\n",
      " -75.8333347 -75.5000014 -75.1666681 -74.8333348 -74.5000015 -74.1666682\n",
      " -73.8333349 -73.5000016 -73.1666683 -72.833335  -72.5000017 -72.1666684\n",
      " -71.8333351 -71.5000018 -71.1666685 -70.8333352 -70.5000019 -70.1666686\n",
      " -69.8333353 -69.500002  -69.1666687 -68.8333354 -68.5000021 -68.1666688\n",
      " -67.8333355 -67.5000022 -67.1666689 -66.8333356 -66.5000023 -66.166669\n",
      " -65.8333357 -65.5000024 -65.1666691 -64.8333358 -64.5000025 -64.1666692\n",
      " -63.8333359 -63.5000026 -63.1666693 -62.833336  -62.5000027 -62.1666694\n",
      " -61.8333361 -61.5000028 -61.1666695 -60.8333362 -60.5000029 -60.1666696\n",
      " -59.8333363 -59.500003  -59.1666697 -58.8333364 -58.5000031 -58.1666698\n",
      " -57.8333365 -57.5000032 -57.1666699 -56.8333366 -56.5000033 -56.16667\n",
      " -55.8333367 -55.5000034 -55.1666701 -54.8333368 -54.5000035 -54.1666702\n",
      " -53.8333369 -53.5000036 -53.1666703 -52.833337  -52.5000037 -52.1666704\n",
      " -51.8333371 -51.5000038 -51.1666705 -50.8333372 -50.5000039 -50.1666706\n",
      " -49.8333373 -49.500004  -49.1666707 -48.8333374 -48.5000041 -48.1666708\n",
      " -47.8333375 -47.5000042 -47.1666709 -46.8333376 -46.5000043 -46.166671\n",
      " -45.8333377 -45.5000044 -45.1666711 -44.8333378 -44.5000045 -44.1666712\n",
      " -43.8333379 -43.5000046 -43.1666713 -42.833338  -42.5000047 -42.1666714\n",
      " -41.8333381 -41.5000048 -41.1666715 -40.8333382 -40.5000049 -40.1666716\n",
      " -39.8333383 -39.500005  -39.1666717 -38.8333384 -38.5000051 -38.1666718\n",
      " -37.8333385 -37.5000052 -37.1666719 -36.8333386 -36.5000053 -36.166672\n",
      " -35.8333387 -35.5000054 -35.1666721 -34.8333388 -34.5000055 -34.1666722\n",
      " -33.8333389 -33.5000056 -33.1666723 -32.833339  -32.5000057 -32.1666724\n",
      " -31.8333391 -31.5000058 -31.1666725 -30.8333392 -30.5000059 -30.1666726\n",
      " -29.8333393 -29.500006  -29.1666727 -28.8333394 -28.5000061 -28.1666728\n",
      " -27.8333395 -27.5000062 -27.1666729 -26.8333396 -26.5000063 -26.166673\n",
      " -25.8333397 -25.5000064 -25.1666731 -24.8333398 -24.5000065 -24.1666732\n",
      " -23.8333399 -23.5000066 -23.1666733 -22.83334   -22.5000067 -22.1666734\n",
      " -21.8333401 -21.5000068 -21.1666735 -20.8333402 -20.5000069 -20.1666736\n",
      " -19.8333403 -19.500007  -19.1666737 -18.8333404 -18.5000071 -18.1666738\n",
      " -17.8333405 -17.5000072 -17.1666739 -16.8333406 -16.5000073 -16.166674\n",
      " -15.8333407 -15.5000074 -15.1666741 -14.8333408 -14.5000075 -14.1666742\n",
      " -13.8333409 -13.5000076 -13.1666743 -12.833341  -12.5000077 -12.1666744\n",
      " -11.8333411 -11.5000078 -11.1666745 -10.8333412 -10.5000079 -10.1666746\n",
      "  -9.8333413  -9.500008   -9.1666747  -8.8333414  -8.5000081  -8.1666748\n",
      "  -7.8333415  -7.5000082  -7.1666749  -6.8333416  -6.5000083  -6.166675\n",
      "  -5.8333417  -5.5000084  -5.1666751  -4.8333418  -4.5000085  -4.1666752\n",
      "  -3.8333419  -3.5000086  -3.1666753  -2.833342   -2.5000087  -2.1666754\n",
      "  -1.8333421  -1.5000088  -1.1666755  -0.8333422  -0.5000089  -0.1666756\n",
      "   0.1666577   0.499991    0.8333243   1.1666576   1.4999909   1.8333242\n",
      "   2.1666575   2.4999908   2.8333241   3.1666574   3.4999907   3.833324\n",
      "   4.1666573   4.4999906   4.8333239   5.1666572   5.4999905   5.8333238\n",
      "   6.1666571   6.4999904   6.8333237   7.166657    7.4999903   7.8333236\n",
      "   8.1666569   8.4999902   8.8333235   9.1666568   9.4999901   9.8333234\n",
      "  10.1666567  10.49999    10.8333233  11.1666566  11.4999899  11.8333232\n",
      "  12.1666565  12.4999898  12.8333231  13.1666564  13.4999897  13.833323\n",
      "  14.1666563  14.4999896  14.8333229  15.1666562  15.4999895  15.8333228\n",
      "  16.1666561  16.4999894  16.8333227  17.166656   17.4999893  17.8333226\n",
      "  18.1666559  18.4999892  18.8333225  19.1666558  19.4999891  19.8333224\n",
      "  20.1666557  20.499989   20.8333223  21.1666556  21.4999889  21.8333222\n",
      "  22.1666555  22.4999888  22.8333221  23.1666554  23.4999887  23.833322\n",
      "  24.1666553  24.4999886  24.8333219  25.1666552  25.4999885  25.8333218\n",
      "  26.1666551  26.4999884  26.8333217  27.166655   27.4999883  27.8333216\n",
      "  28.1666549  28.4999882  28.8333215  29.1666548  29.4999881  29.8333214\n",
      "  30.1666547  30.499988   30.8333213  31.1666546  31.4999879  31.8333212\n",
      "  32.1666545  32.4999878  32.8333211  33.1666544  33.4999877  33.833321\n",
      "  34.1666543  34.4999876  34.8333209  35.1666542  35.4999875  35.8333208\n",
      "  36.1666541  36.4999874  36.8333207  37.166654   37.4999873  37.8333206\n",
      "  38.1666539  38.4999872  38.8333205  39.1666538  39.4999871  39.8333204\n",
      "  40.1666537  40.499987   40.8333203  41.1666536  41.4999869  41.8333202\n",
      "  42.1666535  42.4999868  42.8333201  43.1666534  43.4999867  43.83332\n",
      "  44.1666533  44.4999866  44.8333199  45.1666532  45.4999865  45.8333198\n",
      "  46.1666531  46.4999864  46.8333197  47.166653   47.4999863  47.8333196\n",
      "  48.1666529  48.4999862  48.8333195  49.1666528  49.4999861  49.8333194\n",
      "  50.1666527  50.499986   50.8333193  51.1666526  51.4999859  51.8333192\n",
      "  52.1666525  52.4999858  52.8333191  53.1666524  53.4999857  53.833319\n",
      "  54.1666523  54.4999856  54.8333189  55.1666522  55.4999855  55.8333188\n",
      "  56.1666521  56.4999854  56.8333187  57.166652   57.4999853  57.8333186\n",
      "  58.1666519  58.4999852  58.8333185  59.1666518  59.4999851  59.8333184\n",
      "  60.1666517  60.499985   60.8333183  61.1666516  61.4999849  61.8333182\n",
      "  62.1666515  62.4999848  62.8333181  63.1666514  63.4999847  63.833318\n",
      "  64.1666513  64.4999846  64.8333179  65.1666512  65.4999845  65.8333178\n",
      "  66.1666511  66.4999844  66.8333177  67.166651   67.4999843  67.8333176\n",
      "  68.1666509  68.4999842  68.8333175  69.1666508  69.4999841  69.8333174\n",
      "  70.1666507  70.499984   70.8333173  71.1666506  71.4999839  71.8333172\n",
      "  72.1666505  72.4999838  72.8333171  73.1666504  73.4999837  73.833317\n",
      "  74.1666503  74.4999836  74.8333169  75.1666502  75.4999835  75.8333168\n",
      "  76.1666501  76.4999834  76.8333167  77.16665    77.4999833  77.8333166\n",
      "  78.1666499  78.4999832  78.8333165  79.1666498  79.4999831  79.8333164\n",
      "  80.1666497  80.499983   80.8333163  81.1666496  81.4999829  81.8333162\n",
      "  82.1666495  82.4999828  82.8333161  83.1666494  83.4999827  83.833316\n",
      "  84.1666493  84.4999826  84.8333159  85.1666492  85.4999825  85.8333158\n",
      "  86.1666491  86.4999824  86.8333157  87.166649   87.4999823  87.8333156\n",
      "  88.1666489  88.4999822  88.8333155  89.1666488  89.4999821  89.8333154]\n"
     ]
    },
    {
     "data": {
      "text/plain": [
       "(540,)"
      ]
     },
     "execution_count": 5,
     "metadata": {},
     "output_type": "execute_result"
    }
   ],
   "source": [
    "print(lats)\n",
    "lats.shape"
   ]
  },
  {
   "cell_type": "code",
   "execution_count": 6,
   "metadata": {},
   "outputs": [
    {
     "name": "stdout",
     "output_type": "stream",
     "text": [
      "[ 20.1666667  20.5        20.8333333 ... 379.4999641 379.8332974\n",
      " 380.1666307]\n"
     ]
    },
    {
     "data": {
      "text/plain": [
       "(1081,)"
      ]
     },
     "execution_count": 6,
     "metadata": {},
     "output_type": "execute_result"
    }
   ],
   "source": [
    "print(lons)\n",
    "lons.shape"
   ]
  },
  {
   "cell_type": "code",
   "execution_count": 7,
   "metadata": {},
   "outputs": [
    {
     "name": "stdout",
     "output_type": "stream",
     "text": [
      "[[ 2804.      2804.      2804.     ...  2804.      2804.      2804.    ]\n",
      " [ 2831.      2831.      2831.     ...  2831.      2831.      2831.    ]\n",
      " [ 2808.      2808.      2808.     ...  2808.      2808.      2808.    ]\n",
      " ...\n",
      " [-4349.375  -4350.     -4350.25   ... -4348.8125 -4349.125  -4349.375 ]\n",
      " [-4311.5625 -4311.875  -4312.5    ... -4310.875  -4311.375  -4311.5625]\n",
      " [-4291.5    -4291.5    -4291.5    ... -4291.5    -4291.5    -4291.5   ]]\n"
     ]
    },
    {
     "data": {
      "text/plain": [
       "(540, 1081)"
      ]
     },
     "execution_count": 7,
     "metadata": {},
     "output_type": "execute_result"
    }
   ],
   "source": [
    "print(topo_grid)\n",
    "topo_grid.shape"
   ]
  },
  {
   "cell_type": "markdown",
   "metadata": {},
   "source": [
    "Next we'll need to manipulate the data a bit. We want a (540 x 1081 = 583740) (583740) element array to plot the distribution of elevations. We can up the numpy function `reshape` to do this."
   ]
  },
  {
   "cell_type": "code",
   "execution_count": 17,
   "metadata": {},
   "outputs": [
    {
     "ename": "TypeError",
     "evalue": "expected sequence object with len >= 0 or a single integer",
     "output_type": "error",
     "traceback": [
      "\u001b[0;31m---------------------------------------------------------------------------\u001b[0m",
      "\u001b[0;31mTypeError\u001b[0m                                 Traceback (most recent call last)",
      "\u001b[0;32m<ipython-input-17-9a7f049730c3>\u001b[0m in \u001b[0;36m<module>\u001b[0;34m()\u001b[0m\n\u001b[0;32m----> 1\u001b[0;31m \u001b[0mtopo_array\u001b[0m \u001b[0;34m=\u001b[0m \u001b[0mtopo_grid\u001b[0m\u001b[0;34m.\u001b[0m\u001b[0mreshape\u001b[0m\u001b[0;34m(\u001b[0m\u001b[0;34m...\u001b[0m\u001b[0;34m)\u001b[0m\u001b[0;34m\u001b[0m\u001b[0m\n\u001b[0m",
      "\u001b[0;31mTypeError\u001b[0m: expected sequence object with len >= 0 or a single integer"
     ]
    }
   ],
   "source": [
    "topo_array = topo_grid.reshape(...)"
   ]
  },
  {
   "cell_type": "markdown",
   "metadata": {},
   "source": [
    "## Visualizing data\n",
    "### Plot histogram of elevation data"
   ]
  },
  {
   "cell_type": "markdown",
   "metadata": {},
   "source": [
    "First we plot a simple histogram with the `matplotlib` function `hist`. Setting `density=False` will give the count number in each bin, setting `density=True` will give a normalized histogram where the area under the histogram will sum to 1 (i.e. 100%)."
   ]
  },
  {
   "cell_type": "code",
   "execution_count": 12,
   "metadata": {},
   "outputs": [
    {
     "data": {
      "image/png": "[encoded data removed]",
      "text/plain": [
       "<Figure size 432x288 with 1 Axes>"
      ]
     },
     "metadata": {},
     "output_type": "display_data"
    }
   ],
   "source": [
    "plt.hist(topo_array,bins=30,density=...)\n",
    "plt.xlabel('Elevation (m)')\n",
    "plt.ylabel('Fraction')\n",
    "plt.title('Histogram of Elevation');"
   ]
  },
  {
   "cell_type": "markdown",
   "metadata": {},
   "source": [
    "There are two peaks, one near sea-level and one below sea-level (the ocean basins). Earth's crust comes in two flavors: continental and oceanic. And there is something that gives them districtly different elevations."
   ]
  },
  {
   "cell_type": "code",
   "execution_count": 13,
   "metadata": {},
   "outputs": [
    {
     "data": {
      "text/html": [
       "\n",
       "        <iframe\n",
       "            width=\"1000\"\n",
       "            height=\"500\"\n",
       "            src=\"https://www.youtube.com/embed/KOv3FGVmRcA?t=3s\"\n",
       "            frameborder=\"0\"\n",
       "            allowfullscreen\n",
       "        ></iframe>\n",
       "        "
      ],
      "text/plain": [
       "<IPython.lib.display.YouTubeVideo at 0x107717cf8>"
      ]
     },
     "execution_count": 13,
     "metadata": {},
     "output_type": "execute_result"
    }
   ],
   "source": [
    "from IPython.display import YouTubeVideo\n",
    "# Why Earth Has Two Levels | Hyprometric Curve\n",
    "# Video credit: MinuteEarth\n",
    "# Start at 3s, End at 2:25\n",
    "YouTubeVideo('KOv3FGVmRcA?t=3s', width=\"1000\", height=\"500\")"
   ]
  },
  {
   "cell_type": "markdown",
   "metadata": {},
   "source": [
    "Why do continental crust and oceanic crust have different elevations?"
   ]
  },
  {
   "cell_type": "markdown",
   "metadata": {},
   "source": [
    "_Write your answer here_"
   ]
  },
  {
   "cell_type": "markdown",
   "metadata": {},
   "source": [
    "### Plot Hypsometric Curve"
   ]
  },
  {
   "cell_type": "markdown",
   "metadata": {},
   "source": [
    "Another useful method of visualizing the distribution of our data is a cumulative distribution function (CDF), which for topography has the name \"Hypsometric Curve.\" \n",
    "\n",
    "The value on the hypsometric curve represents the percentage of Earth's surface with an elevation higher than the elevation at the corresponding value."
   ]
  },
  {
   "cell_type": "code",
   "execution_count": 15,
   "metadata": {},
   "outputs": [
    {
     "data": {
      "image/png": "[encoded data removed]",
      "text/plain": [
       "<Figure size 432x288 with 1 Axes>"
      ]
     },
     "metadata": {},
     "output_type": "display_data"
    }
   ],
   "source": [
    "sorted_topo = sorted(...,reverse=True) # sort the data by decreasing numbers\n",
    "sorted_topo = np.asarray(sorted_topo)\n",
    "percent_topo = np.linspace(0,100,len(sorted_topo)) # percentage of Earth's surface that lies above a given elevation.\n",
    "\n",
    "\n",
    "plt.plot(percent_topo,sorted_topo); #plot\n"
   ]
  },
  {
   "cell_type": "markdown",
   "metadata": {},
   "source": [
    "This looks right, but it isn't very informative. \n",
    "\n",
    "We need to add labels, and let's color continental and oceanic crust different colors."
   ]
  },
  {
   "cell_type": "code",
   "execution_count": 16,
   "metadata": {},
   "outputs": [
    {
     "ename": "SyntaxError",
     "evalue": "invalid syntax (<ipython-input-16-f31010e21de1>, line 6)",
     "output_type": "error",
     "traceback": [
      "\u001b[0;36m  File \u001b[0;32m\"<ipython-input-16-f31010e21de1>\"\u001b[0;36m, line \u001b[0;32m6\u001b[0m\n\u001b[0;31m    continental = sorted_topo[sorted_topo ... 0]\u001b[0m\n\u001b[0m                                            ^\u001b[0m\n\u001b[0;31mSyntaxError\u001b[0m\u001b[0;31m:\u001b[0m invalid syntax\n"
     ]
    }
   ],
   "source": [
    "sorted_topo = sorted(topo_array,reverse=True) # sort the data by decreasing numbers\n",
    "sorted_topo = np.asarray(sorted_topo)\n",
    "percent_topo = np.linspace(0,100,len(sorted_topo)) # percentage of Earth's surface that lies above a given elevation.\n",
    "\n",
    "# split sorted_topo and percent_topo into continental and oceanic parts using boolean indexing\n",
    "continental = sorted_topo[sorted_topo ... 0]\n",
    "percent_cont = percent_topo[sorted_topo > 0]\n",
    "oceanic = sorted_topo[sorted_topo <= 0]\n",
    "percent_ocean = percent_topo[sorted_topo ... 0]\n",
    "\n",
    "\n",
    "plt.plot(percent_cont,continental,'g-',label='Continental',linewidth=2) #plot\n",
    "plt.plot(percent_ocean,oceanic,'b-',label= 'Oceanic',linewidth=2)\n",
    "plt.xlabel('Percent')  # labels\n",
    "plt.ylabel('Elevation (m)')\n",
    "plt.legend(loc='best')\n",
    "plt.title('Hypsometric Curve');"
   ]
  },
  {
   "cell_type": "markdown",
   "metadata": {},
   "source": [
    "For reference the CDF or Hypsometric Curve of a planet (Planet X) that has a normally distribution crust with the same mean and standard deviations as Earth's crust would look like this:"
   ]
  },
  {
   "cell_type": "code",
   "execution_count": null,
   "metadata": {},
   "outputs": [],
   "source": [
    "mu = np.mean(topo_array); # compute the mean elevation of Earth's surface\n",
    "sigma = np.std(topo_array); # compute the standard deviation about the mean elevation of Earth's surface\n",
    "s = sigma*np.random.randn(10000)+mu; # generate normally distributed random Planet X elevation\n",
    "\n",
    "sorted_s = sorted(s,reverse=True) # sort the data by decreasing numbers\n",
    "percent_s = np.linspace(0,100,10000) # percentage of surface that lies above a given elevation\n",
    "\n",
    "\n",
    "plt.plot(percent_s,sorted_s,linewidth=2,label='Elevation'); # plot\n",
    "plt.plot([0, 100],[0,0],linewidth=2,label='Sealevel'); # plot\n",
    "plt.xlabel('Percent')  # add labels\n",
    "plt.ylabel('Elevation (m)')\n",
    "plt.legend(loc='best')\n",
    "plt.title('Planet X Hypsometric Curve');"
   ]
  },
  {
   "cell_type": "markdown",
   "metadata": {},
   "source": [
    "What percentage of the surface of Planet X is above sealevel?"
   ]
  },
  {
   "cell_type": "markdown",
   "metadata": {},
   "source": [
    "_Write your answer here._"
   ]
  },
  {
   "cell_type": "markdown",
   "metadata": {},
   "source": [
    "### Topograpic Map"
   ]
  },
  {
   "cell_type": "markdown",
   "metadata": {},
   "source": [
    "Histograms and CDFs are two useful 1D visualizations of our data, but what about the distribution of topography across the globe? \n",
    "\n",
    "Again, we'll need to manipulate the data a bit. We need grids of latitude and longitude in order to map the topography. Like `topo_grid` they will be (size 540 x 1081). `lat_grid` will have rows of constant latitude, and `lon_grid` will have columns of constant longtiude. To do this we'll call the numpy functions `repeat`, `reshape`, and `tile`.\n",
    "\n",
    "<img src=\"Figures/lon_lat_grids.png\">"
   ]
  },
  {
   "cell_type": "markdown",
   "metadata": {},
   "source": [
    "**Reshape data into grids for mapping**"
   ]
  },
  {
   "cell_type": "code",
   "execution_count": null,
   "metadata": {},
   "outputs": [],
   "source": [
    "latitude =  np.repeat(lats,1081) # repeat the array of latitudes 1081 times\n",
    "lat_grid = latitude.reshape(540,1081) # reshape that (583740,1) element array to (540,1081)\n",
    "\n",
    "lon_grid = np.tile(lons,(540,1)) # repeat the array of longtitudes 540 times as rows\n",
    "\n",
    "print(lat_grid)"
   ]
  },
  {
   "cell_type": "code",
   "execution_count": null,
   "metadata": {},
   "outputs": [],
   "source": [
    "print(lon_grid)"
   ]
  },
  {
   "cell_type": "markdown",
   "metadata": {},
   "source": [
    "Use the grids of latitude and longtitude to plot a Robinson projection map of topography using the `cartopy` function `contourf`."
   ]
  },
  {
   "cell_type": "code",
   "execution_count": null,
   "metadata": {},
   "outputs": [],
   "source": [
    "plt.figure(1,(20,20)) # make a figure object to put things on\n",
    "ax = plt.axes(projection=ccrs.Robinson()) # set the map projection to Robinson\n",
    "ax.set_global() # set the axes of the map\n",
    "map1=plt.contourf(..., ..., ...,40,cmap=cm.jet,transform=ccrs.PlateCarree()) # plot topography\n",
    "\n",
    "ax.coastlines()\n",
    "ax.gridlines()\n",
    "\n",
    "plt.show()"
   ]
  },
  {
   "cell_type": "markdown",
   "metadata": {},
   "source": [
    "That looks great! But what do the colors mean? We need to add a colobar for context."
   ]
  },
  {
   "cell_type": "code",
   "execution_count": null,
   "metadata": {},
   "outputs": [],
   "source": [
    "plt.figure(1,(20,20))\n",
    "ax = plt.axes(projection=ccrs.Robinson())\n",
    "ax.set_global()\n",
    "map1=plt.contourf(lon_grid, lat_grid, topo_grid,40,cmap=cm.jet,transform=ccrs.PlateCarree())\n",
    "\n",
    "color_ax = plt.axes(...)  # set where the colorbar goes with [left, bottom, width, height] in figure coordinates\n",
    "plt.colorbar(cax=color_ax) # add a colorbar of topography values\n",
    "\n",
    "plt.title('Topography, meters'); # add a title\n",
    "\n",
    "ax.coastlines()\n",
    "ax.gridlines()\n",
    "\n",
    "plt.show()"
   ]
  },
  {
   "cell_type": "markdown",
   "metadata": {},
   "source": [
    "Let's choose a `colormap` that better shows +/- elevation.\n",
    "\n",
    "https://matplotlib.org/users/colormaps.html"
   ]
  },
  {
   "cell_type": "code",
   "execution_count": null,
   "metadata": {},
   "outputs": [],
   "source": [
    "plt.figure(1,(20,20))\n",
    "ax = plt.axes(projection=ccrs.Robinson())\n",
    "ax.set_global()\n",
    "\n",
    "# change the colormap to something better\n",
    "map1=plt.contourf(lon_grid, lat_grid, topo_grid,40,cmap=cm.xxx,transform=ccrs.PlateCarree()) \n",
    "\n",
    "color_ax = plt.axes([0.95, 0.3, 0.05, 0.35])\n",
    "plt.colorbar(cax=color_ax) \n",
    "\n",
    "plt.title('Topography, meters'); \n",
    "\n",
    "ax.coastlines()\n",
    "ax.gridlines()\n",
    "\n",
    "plt.show()"
   ]
  },
  {
   "cell_type": "markdown",
   "metadata": {},
   "source": [
    "That's better, but elevation of 0.0 meters (sealevel) still isn't the midpoint of the colormap.\n",
    "\n",
    "To do that things get a little tricky. We can look it up in the matplotlib documentation. https://matplotlib.org/users/colormapnorms.html#custom-normalization-two-linear-ranges We'll define a new normalization class `MidpointNormalize`. Normalizations are classes defined in the `matplotlib.colors()` module. The default linear normalization is `colors.Normalize()`, another example is `colors.LogNorm()`."
   ]
  },
  {
   "cell_type": "code",
   "execution_count": null,
   "metadata": {},
   "outputs": [],
   "source": [
    "import matplotlib.colors as colors\n",
    "\n",
    "plt.figure(1,(20,20))\n",
    "ax = plt.axes(projection=ccrs.Robinson())\n",
    "ax.set_global()\n",
    "\n",
    "# Example of making your own norm.  Also see matplotlib.colors.\n",
    "# Source: https://matplotlib.org/users/colormapnorms.html#custom-normalization-two-linear-ranges\n",
    "# From Joe Kington: This one gives two different linear ramps:\n",
    "class MidpointNormalize(colors.Normalize):\n",
    "    def __init__(self, vmin=None, vmax=None, midpoint=None, clip=False):\n",
    "        self.midpoint = midpoint\n",
    "        colors.Normalize.__init__(self, vmin, vmax, clip)\n",
    "\n",
    "    def __call__(self, value, clip=None):\n",
    "        # I'm ignoring masked values and all kinds of edge cases to make a\n",
    "        # simple example...\n",
    "        x, y = [self.vmin, self.midpoint, self.vmax], [0, 0.5, 1]\n",
    "        return np.ma.masked_array(np.interp(value, x, y))\n",
    "#####\n",
    "\n",
    "\n",
    "\n",
    "# change the midpoint of the colormap to 0.0\n",
    "map1=plt.contourf(lon_grid, lat_grid, topo_grid,40,norm=MidpointNormalize(midpoint=...),cmap=cm.BrBG_r,transform=ccrs.PlateCarree()) \n",
    "\n",
    "color_ax = plt.axes([0.95, 0.3, 0.05, 0.35])\n",
    "plt.colorbar(cax=color_ax) \n",
    "\n",
    "plt.title('Topography, meters'); \n",
    "\n",
    "ax.coastlines()\n",
    "ax.gridlines()\n",
    "\n",
    "plt.show()"
   ]
  },
  {
   "cell_type": "markdown",
   "metadata": {},
   "source": [
    "Ta Da!"
   ]
  },
  {
   "cell_type": "markdown",
   "metadata": {},
   "source": [
    "What features can you identify, where? (Mountain belts, continental shelf, abyssal plain, ocean trenches, mid-ocean ridges, volcanic islands)"
   ]
  },
  {
   "cell_type": "markdown",
   "metadata": {},
   "source": [
    "_Write your answer here._"
   ]
  }
 ],
 "metadata": {
  "kernelspec": {
   "display_name": "Python 3",
   "language": "python",
   "name": "python3"
  },
  "language_info": {
   "codemirror_mode": {
    "name": "ipython",
    "version": 3
   },
   "file_extension": ".py",
   "mimetype": "text/x-python",
   "name": "python",
   "nbconvert_exporter": "python",
   "pygments_lexer": "ipython3",
   "version": "3.6.5"
  }
 },
 "nbformat": 4,
 "nbformat_minor": 2
}
