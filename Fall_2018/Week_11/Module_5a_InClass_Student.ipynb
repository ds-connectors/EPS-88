{
 "cells": [
  {
   "cell_type": "markdown",
   "metadata": {},
   "source": [
    "# Module 5, Week 1 In Class Exercise\n",
    "\n",
    "Probability distributions\n",
    "\n",
    "**Before class reading: Chapters 9.3, 9.5, 10.0, and 10.2 from Data8 textbook **\n",
    "\n",
    "**Last week we:**\n",
    "- Load peak ground acceleration observations from two notable M6 quakes in California\n",
    "- Fit a ground motion prediction equation (GMPE) using `polyfit`\n",
    "- Vary our assumed mean event depth to find better fitting model\n",
    "- Fit a GMPE after weighing the data by the distance distribution using `linalg.solve`\n",
    "\n",
    "**Our goals for today:**\n",
    "- Review some key statistics topics: samples versus populations and empirical versus theorectical distributions\n",
    "- Simulate a head/tail coin toss i.e. Binomial distribution\n",
    "- Simulate cars passing a point i.e. Poisson distribution\n",
    "- Simulate geomagnetic polarity reversals i.e. Gamma distribution\n"
   ]
  },
  {
   "cell_type": "markdown",
   "metadata": {},
   "source": [
    "## Setup\n",
    "\n",
    "Run this cell as it is to setup your environment."
   ]
  },
  {
   "cell_type": "code",
   "execution_count": null,
   "metadata": {},
   "outputs": [],
   "source": [
    "import matplotlib.pyplot as plt\n",
    "import pandas as pd\n",
    "import numpy as np\n",
    "import scipy as scipy\n",
    "import scipy.stats as sps"
   ]
  },
  {
   "cell_type": "markdown",
   "metadata": {},
   "source": [
    "## Basic statistical concepts\n",
    "\n",
    "So, what is statistics?  Statistics is the way we analyze, interpret and model data. To do it properly we need to understand a few concepts: \n",
    "\n",
    "1) **Population** versus **sample**: the _population_ is the set of all possible outcomes of a given measurement (if you had an infinite number of data points), while the _sample_ is what you have - a finite number of data points.  \n",
    "\n",
    "2) **Probability**: the measure of how likely it is for a particular event to occur.  If something is impossible, it has a probability $P$ of 0.  If it is a certainty, it has a probability $P$ of 1.  \n",
    "\n",
    "3) **Theoretical** versus **empirical** distributions: Empirical distributions are measured data. Theoretical distributions are analytical probabililty functions described with an equation.  These can be applied to data, allowing interpretations about the likelihood of observing a given measurement.  \n",
    "\n",
    " \n",
    "Additional resources: Olea (2008): https://pubs.usgs.gov/of/2008/1017/ofr2008-1017_rev.pdf; Davis, J. (2002): Statistical and Data Analysis in Geology, 3rd Ed, Wiley, Hoboken. \n",
    "\n",
    "\n",
    "There are many different types of probability distributions and evaluating the equations gives us a theoretical distribution. \n",
    "\n",
    "<img src=\"./paranormal_dist.png\">\n",
    "\n",
    "Samples are finite collections of observations which belong to a distribution. In this exercise, we will simulate 'measurements' by drawing 'observations' from a theoretical distribution.  This is the _Monte Carlo_ approach (after the gambling town).\n",
    "\n",
    "Examples of theoretical versus empirical distributions:"
   ]
  },
  {
   "cell_type": "markdown",
   "metadata": {},
   "source": [
    "### Binomial distribution:\n",
    "\n",
    "#### Theoretical\n",
    "\n",
    "Perhaps the most straight forward distribution is the _binomial_ distribution which describes the probability of a particular outcome when there are only two possibilities (yes or no, heads or tails, 1 or 0).   For example, in a coin toss experiment (heads or tails), if we flip the coin  $n$ times, what is the probability of getting $x$ 'heads'?  We assume that the probability $p$ of a head for any given coin toss is 50%; put another way $p$ = 0.5.  \n",
    "\n",
    "The binomial distribution can be described by an equation: \n",
    "\n",
    "$$P=f(x,p,n)= \\frac{n!}{x!(n-x)!}p^x(1-p)^{n-x}$$\n",
    "\n",
    "We can look at this kind of distribution by evaluating the probability for getting $x$ 'heads' out of $n$ attempts. We'll code the equation as a function, and calculate the probability $P$ of a particular outcome (e.g., $x$ heads in $n$ attempts). Note that for a coin toss, $p$ is 0.5, but other yes/no questions can be investigated as well (e.g., chance of winning the lottery given purchase of $n$ tickets). "
   ]
  },
  {
   "cell_type": "code",
   "execution_count": null,
   "metadata": {},
   "outputs": [],
   "source": [
    "def Binomial_probability(x,p,n):\n",
    "    \"\"\"\n",
    "    This function computes the probability of getting x particular outcomes (heads) in n attempts, where p is the \n",
    "    probability of a particular outcome (head) for any given attempt (coin toss).\n",
    "    \"\"\"\n",
    "    # initialize size of probability array\n",
    "    prob = np.zeros(len(x)) \n",
    "    \n",
    "    # compute the binomial probability of getting x outcomes in n attempts\n",
    "    for i in np.arange(0,len(x),1):\n",
    "        prob[i] = (np.math.factorial(...)*(p**(...[i]))*(1.0-p)**(...[i])/  \\\n",
    "                   (np.math.factorial(...[i])* np.math.factorial(...[i])))\n",
    "    \n",
    "    #return the output\n",
    "    return prob\n"
   ]
  },
  {
   "cell_type": "markdown",
   "metadata": {},
   "source": [
    "We can use `Binomial_probability` to look at the predicted likelihood of getting $x$ heads out of $n=12$ attempts (coin tosses) with a $p$ (probability) of 0.5. "
   ]
  },
  {
   "cell_type": "code",
   "execution_count": null,
   "metadata": {},
   "outputs": [],
   "source": [
    "# calculate the probability  of x heads in n attempts with a probability of 0.5\n",
    "n=12 # number of attempts in each trial\n",
    "p=0.5 # probability of getting a head\n",
    "xs=np.arange(...,...,...) # range of test 'head' values from 0 to n steps of 1\n",
    "Probability=Binomial_probability(...,...,...) # probability of getting x heads out of n attempts\n",
    "plt.bar(xs,Probability,width=.5,color='cyan') # plot as bar plot\n",
    "plt.plot(xs,Probability,'r-',linewidth=2) # plot as solid line\n",
    "plt.xlabel('Number of heads out of $n$ attempts') # add labels\n",
    "plt.ylabel('Probability') \n",
    "\n",
    "\n",
    "plt.text(1,.2, 'n = %i'%(n),  fontsize=14) # place a note in upper left \n",
    "plt.title('Binomial Distribution');"
   ]
  },
  {
   "cell_type": "markdown",
   "metadata": {},
   "source": [
    "_Red line is the theoretical probability density function._\n",
    "\n",
    "Although other outcomes can very well occur, what is the most probable number of heads you'll observe in 12 coin tosses? What is the probability of this number of heads?"
   ]
  },
  {
   "cell_type": "markdown",
   "metadata": {},
   "source": [
    "_Write your answer here._"
   ]
  },
  {
   "cell_type": "markdown",
   "metadata": {},
   "source": [
    "#### Empirical\n",
    "\n",
    "One great features of computers is that we can simulate a data sample to compare to our theoretical predictions. \n",
    "We can use the module `numpy.random` to generate examples of simulated data sets in a process called _Monte Carlo simulation_. "
   ]
  },
  {
   "cell_type": "code",
   "execution_count": null,
   "metadata": {},
   "outputs": [],
   "source": [
    "help(np.random.binomial)"
   ]
  },
  {
   "cell_type": "markdown",
   "metadata": {},
   "source": [
    "To generate some  data, you could either patiently do the experiment with a coin toss, or we can just use the `np.random.binomial` function to simulate 'realistic' data.  \n",
    "\n",
    "`np.random.binomial( )` requires 2 parameters, $n$ and $p$, with an optional keyword argument `size` (if `size` is not specified, it returns a single trial).   Each call to `np.random.binomial( )` returns the number of heads flipped in a single trial of $n$ coin tosses, given the probablity $p=0.5$. \n",
    "\n",
    "Let's try it with $n=12$ and $p=0.5$.  The following code block returns the number of heads out of $n$ attempts. You will get a different answer every time you run it. "
   ]
  },
  {
   "cell_type": "code",
   "execution_count": null,
   "metadata": {},
   "outputs": [],
   "source": [
    "n = 12\n",
    "p = 0.5 # same as before\n",
    "x = np.random.binomial(...,...) # the number of heads over the n tosses\n",
    "\n",
    "print (x, 'heads')"
   ]
  },
  {
   "cell_type": "markdown",
   "metadata": {},
   "source": [
    " As the number of times you repeat this 'experiment' approaches infinity, the distribution of outcomes will approach the theoretical distribution (i.e., you will get an average of 9 heads out of 12 attempts 5% of the time).   \n",
    "\n",
    "So let's compare the results simulated via Monte Carlo for some number of experiments ($Nmc$) with the theoretical distribution.  To do this,  we pretend that each student in the class ($Nmc=18$) flips a coin $n=12$ times and reports the number of heads.  We can collect the number of heads flipped by each student in the variable `Simulated`"
   ]
  },
  {
   "cell_type": "code",
   "execution_count": null,
   "metadata": {},
   "outputs": [],
   "source": [
    "n = 12\n",
    "p = 0.5 # same as before\n",
    "Nmc=18 # number of simulated experiments each with n  attempts\n",
    "Simulated=np.random.binomial(...,...,size=...)\n",
    "\n",
    "# plot\n",
    "plt.bar(...,...,color='cyan', label='Theoretical') # theoretical curve as bar graph\n",
    "plt.hist(...,density=True,color='orange',histtype='step',linewidth=3, label='Simulated') # simulated data\n",
    "plt.xlabel('Number of heads out of $n$ attempts')\n",
    "plt.ylabel('Fraction of simulated experiments')\n",
    "plt.text(1,.3, 'n = %i'%(n),  fontsize=14)\n",
    "plt.legend();"
   ]
  },
  {
   "cell_type": "markdown",
   "metadata": {},
   "source": [
    "_Orange line is the Monte Carlo results.  Blue line is the theoretical probability density function._"
   ]
  },
  {
   "cell_type": "markdown",
   "metadata": {},
   "source": [
    "Notice that every time you repeat this, the Monte Carlo results are a little different.  And if you change $Nmc$ to be, say 10, you get more and more \"weird\" results.  But if you set $Nmc$ to 5000, your results would look consistently  closer to the theoretical prediction. \n"
   ]
  },
  {
   "cell_type": "markdown",
   "metadata": {},
   "source": [
    "### Poisson distribution:\n",
    "\n",
    "#### Theoretical\n",
    "\n",
    "The Poisson distribution gives the probability that an event (with two possible outcomes) occurs $k$ number of times in an interval of time where $\\lambda$ is the expected rate of occurance. The Poisson distribution is the limit of the binomial distribution for large $n$. So if you take the limit of the binomial distribution as $n \\rightarrow \\infty$\n",
    "\n",
    "$\\lim_{n \\rightarrow \\infty } \\frac{n!}{k!(n-k)!}p^k(1-p)^{n-k} = \\lim_{n \\rightarrow \\infty } \\frac{n!}{k!(n-k)!}(\\frac{\\lambda}{n})^k(1-\\frac{\\lambda}{n})^{n-k} $\n",
    "\n",
    "you'll get the Poisson distribution:\n",
    "\n",
    "$P(k$ events in interval$) = e^{-\\lambda}\\frac{\\lambda^{k}}{k!}$\n",
    "\n",
    "Because $\\lim_{x \\rightarrow \\infty } (1+\\frac{a}{x})^{x}=e^{a}$ and $\\lim_{x \\rightarrow \\infty } \\frac{x!}{x^{k}(x-k)!} = 1$"
   ]
  },
  {
   "cell_type": "code",
   "execution_count": null,
   "metadata": {},
   "outputs": [],
   "source": [
    "def Poisson_probability(k,lam):\n",
    "    \"\"\"\n",
    "    This function computes the probability of getting x particular outcomes (heads) in n attempts, where p is the \n",
    "    probability of a particular outcome (head) for any given attempt (coin toss).\n",
    "    \"\"\"\n",
    "    \n",
    "    # compute the poisson probability of getting k outcomes when the expected rate is lam\n",
    "    prob = (np.xxx(-1*...))*(...**...)/np.math.factorial(...)\n",
    "    \n",
    "    #return the output\n",
    "    return prob"
   ]
  },
  {
   "cell_type": "markdown",
   "metadata": {},
   "source": [
    "For example if you are watching a section of road and counting the number of cars that pass. If the expected rate of cars going by is 10 cars per hour, and you observe for some huge number of hours (so $n \\approx \\infty$) then the probability of observing 12 cars in an hour is:"
   ]
  },
  {
   "cell_type": "code",
   "execution_count": null,
   "metadata": {},
   "outputs": [],
   "source": [
    "lam = 10;\n",
    "k = 12;\n",
    "prob = Poisson_probability(...,...);\n",
    "print (prob)"
   ]
  },
  {
   "cell_type": "markdown",
   "metadata": {},
   "source": [
    "The shape of the theoretical Poisson distribution depends on the value of $\\lambda$ of the Poisson process being observed."
   ]
  },
  {
   "cell_type": "code",
   "execution_count": null,
   "metadata": {},
   "outputs": [],
   "source": [
    "num_events = np.arange(0,20,1)\n",
    "\n",
    "# lambda = 1\n",
    "P1 = np.zeros(len(num_events))\n",
    "for i in np.arange(0,20,1):\n",
    "    P1[i] = Poisson_probability(...,...)\n",
    "\n",
    "# lambda = 4\n",
    "P4 = np.zeros(len(num_events))\n",
    "for i in np.arange(0,20,1):\n",
    "    P4[i] = Poisson_probability(i,...)\n",
    "    \n",
    "# lambda = 10\n",
    "P10 = np.zeros(len(num_events))\n",
    "for i in np.arange(0,20,1):\n",
    "    P10[i] = Poisson_probability(i,...)\n",
    "    \n",
    "# plot    \n",
    "plt.plot(num_events,...,'o-',label='$\\lambda$ = 1') # theoretical curve for lam = 1\n",
    "plt.plot(num_events,...,'o-',label='$\\lambda$ = 4') # theoretical curve for lam = 4\n",
    "plt.plot(num_events,...,'o-',label='$\\lambda$ = 10') # theoretical curve for lam = 10\n",
    "plt.xlabel('k')\n",
    "plt.ylabel('Probability')\n",
    "plt.title('Poisson Distribution');\n",
    "plt.legend();"
   ]
  },
  {
   "cell_type": "markdown",
   "metadata": {},
   "source": [
    "#### Empirical\n",
    "\n",
    "Again we'll use the module `numpy.random` to generate examples of simulated data sets."
   ]
  },
  {
   "cell_type": "code",
   "execution_count": null,
   "metadata": {},
   "outputs": [],
   "source": [
    "help(np.random.poisson)"
   ]
  },
  {
   "cell_type": "markdown",
   "metadata": {},
   "source": [
    "To generate some  data, you could either patiently do the experiment watching cars or we can just use the `np.random.poisson` function to simulate 'realistic' data.  \n",
    "\n",
    "`np.random.poisson( )` requires 1 parameter `lam` and an optional parameter `size`.  Each call to `np.random.poisson( )` returns `size` number of draws from a Poisson distribution with $\\lambda =$ `lam`.\n",
    "\n",
    "Let's try it with $\\lambda = 10$ and $p=0.5$.  You will get a different answer every time you run the following: "
   ]
  },
  {
   "cell_type": "code",
   "execution_count": null,
   "metadata": {},
   "outputs": [],
   "source": [
    "lam = 10\n",
    "\n",
    "# theoretical poisson prob distribution\n",
    "num_events = np.arange(0,lam*2,1)\n",
    "P = np.zeros(len(num_events))\n",
    "for i in np.arange(0,lam*2,1):\n",
    "    P[i] = Poisson_probability(i,lam)\n",
    "\n",
    "# empirical simulated poisson prob distribution\n",
    "Nmc=5000 # number of simulated experiments\n",
    "Simulated=np.random.poisson(...,size=...)\n",
    "\n",
    "# plot\n",
    "plt.bar(num_events,...,color='cyan', label='Theoretical') # theoretical curve as bar graph\n",
    "plt.hist(...,density=True,color='orange',histtype='step',linewidth=3, label='Simulated') # simulated sample\n",
    "plt.xlabel('k Number of events')\n",
    "plt.ylabel('Probability')\n",
    "plt.title('Poisson Distribution');\n",
    "plt.text(1,.08, '$\\lambda$ = %i'%(lam),  fontsize=14)\n",
    "plt.legend();"
   ]
  },
  {
   "cell_type": "markdown",
   "metadata": {},
   "source": [
    "### The occurance of geomagnetic reversals can be described by a Poisson distribution.\n",
    "\n",
    "The Geomagnetic Polarity Time Scale is the record of geomagnetic reversals over the past ~150 million years. During the past ~40 Myr the reversal process has been stationary, meaning that the $k$ and $\\lambda$ parameters did not change with time.\n",
    "\n",
    "<img src=\"./GPTS.png\" width = 600>\n",
    "\n",
    "> Source: Gee and Kent (2007) \"Source of Oceanic Magnetic Anomalies and the Geomagnetic Polarity Timescale\""
   ]
  },
  {
   "cell_type": "markdown",
   "metadata": {},
   "source": [
    "Load the GPTS, ages of reversal events:"
   ]
  },
  {
   "cell_type": "code",
   "execution_count": null,
   "metadata": {},
   "outputs": [],
   "source": [
    "data=pd.read_table('age_polarity_1.txt')\n",
    "data.head(10)"
   ]
  },
  {
   "cell_type": "code",
   "execution_count": null,
   "metadata": {},
   "outputs": [],
   "source": [
    "age = data.Time_Myr\n",
    "polarity = data.Polarity\n",
    "\n",
    "plt.figure(1,(20,2))\n",
    "plt.plot(...,...);\n",
    "plt.xlim(0, age[319])\n",
    "plt.xlabel('Age, Myr')\n",
    "plt.ylabel('Polarity')\n",
    "plt.title('Geomagnetic Polarity Time Scale');"
   ]
  },
  {
   "cell_type": "code",
   "execution_count": null,
   "metadata": {},
   "outputs": [],
   "source": [
    "# plot the GPTS to look like the above figure with plt.fill\n",
    "# to do that we need to add an extra -1 at the start and end of polarity i.e. at zero and final age (41.257 Myr)\n",
    "fill_age = np.hstack(([0], age, age[319]))\n",
    "fill_polarity = np.hstack(([-1], polarity, [-1]))\n",
    "\n",
    "plt.figure(1,(20,2))\n",
    "plt.xxx(fill_age,fill_polarity);\n",
    "plt.xlim(0, age[319])\n",
    "plt.xlabel('Age, Myr')\n",
    "plt.ylabel('Polarity, Blue = Normal')\n",
    "plt.title('Geomagnetic Polarity Time Scale');"
   ]
  },
  {
   "cell_type": "markdown",
   "metadata": {},
   "source": [
    "### Gamma distribution:\n",
    "\n",
    "#### Theoretical\n",
    "\n",
    "The Gamma distribution gives the probability of a waiting time between Poisson distributed events.\n",
    "\n",
    "Consider the distribution function $D(x)$ of waiting times until the $h$th Poisson event given a Poisson distribution with a rate of change $\\lambda$,\n",
    "\n",
    "$$ D(x) = P (X \\le x) = 1 - P(X > x) = 1-\\sum_{k=0}^{h-1}\\frac{(\\lambda x)^{k}e^{-\\lambda x}}{k!} = 1-e^{-\\lambda x}\\sum_{k=0}^{h-1}\\frac{(\\lambda x)^{k}}{k!} = 1-\\frac{\\Gamma(h,x\\lambda) }{\\Gamma (h)}$$ \n",
    "\n",
    "where $\\Gamma (x) = (x-1)!$ is a complete gamma function and $\\Gamma (n,x) = (n-1)! e^{-x}\\sum_{k=0}^{n-1}\\frac{x^{k}}{k!}$ an incomplete gamma function. The corresponding probability function $P(x)$ of waiting times until the $h$th Poisson event is then obtained by differentiating  $D(x)$,\n",
    "\n",
    "$$ P(x) = D'(x) = \\frac{\\lambda (\\lambda x)^{h-1}}{(h-1)!}e^{-\\lambda x} $$\n",
    "\n",
    "Now let $\\alpha=h$ (not necessarily an integer) and define $\\theta=1/\\lambda$ to be the time between changes. Then the above equation can be written\n",
    "\n",
    "$$ P(x) = \\frac{x^{\\alpha-1}e^{-x/\\theta}}{\\Gamma (\\alpha) \\theta^{\\alpha}} $$\n",
    "\n",
    "which is the probability of a duration time $x$ between events.\n"
   ]
  },
  {
   "cell_type": "markdown",
   "metadata": {},
   "source": [
    "We need to compute $\\theta$ the expected time between polarity changes. $\\theta = \\mu / \\alpha$ where $\\mu$ is the average chron duration. A value for $\\alpha$ greater than one can be interpreted either as an artefact linked to some short intervals missing in the GPTS or to some short term memory within the dynamo that would inhibit a second reversal just after a first one has occurred.\n",
    "\n",
    "<img src=\"./alpha_greater_one.png\" width = 600>\n",
    "\n",
    "> Source: McFadden (1984) \"Statistical Tools for the Analysis of Geomagnetic Reversal Sequence\""
   ]
  },
  {
   "cell_type": "code",
   "execution_count": null,
   "metadata": {},
   "outputs": [],
   "source": [
    "chron_duration = age.values[1:]-age.values[:-1]\n",
    "chron_duration = chron_duration[chron_duration != 0.0]\n",
    "\n",
    "avg_dur = np.mean(...)\n",
    "print('Over the past 40 Myr, the average time between reversals is %4.3f' %avg_dur, 'Myr.')"
   ]
  },
  {
   "cell_type": "markdown",
   "metadata": {},
   "source": [
    "The most recent reversal happened 0.780 Myr ago. Are we overdue for a geomagnetic reversal?!"
   ]
  },
  {
   "cell_type": "markdown",
   "metadata": {},
   "source": [
    "Define a function for the Gamma probability distribution:\n",
    "$$ P(x) = \\frac{x^{\\alpha-1}e^{-x/\\theta}}{\\Gamma (\\alpha) \\theta^{\\alpha}} $$"
   ]
  },
  {
   "cell_type": "code",
   "execution_count": null,
   "metadata": {},
   "outputs": [],
   "source": [
    "def Gamma_probability(x,theta,alpha):\n",
    "    \"\"\"\n",
    "    This function computes the probability waiting x time between poisson events (polarity change), \n",
    "    given theta the expected time between changes and alpha the shape parameter for the gamma distribution\n",
    "    \"\"\"\n",
    "    \n",
    "    # compute the gamma probability of getting a waiting time of x between events\n",
    "    prob = (x**(...) * np.exp(...)) / (scipy.special.gamma(...)* ...**...)\n",
    "    \n",
    "    #return the output\n",
    "    return prob"
   ]
  },
  {
   "cell_type": "markdown",
   "metadata": {},
   "source": [
    "What is the probability of having a chron with a 0.78 Myr duration?"
   ]
  },
  {
   "cell_type": "code",
   "execution_count": null,
   "metadata": {},
   "outputs": [],
   "source": [
    "x = 0.780;\n",
    "alpha = 1.2; # mean of estimate from McFadden (1984) \n",
    "theta = avg_dur / alpha;\n",
    "\n",
    "current_chron_prob = Gamma_probability(...,...,...)\n",
    "print('The probability of a 0.780 Myr chron (i.e. the Bruhnes) is: %4.3f.'% current_chron_prob)"
   ]
  },
  {
   "cell_type": "markdown",
   "metadata": {},
   "source": [
    "#### Empirical\n",
    "\n",
    "The observed GPTS gives us one realization of an empirical distribution."
   ]
  },
  {
   "cell_type": "code",
   "execution_count": null,
   "metadata": {},
   "outputs": [],
   "source": [
    "b=np.arange(0.,3.,0.1);\n",
    "plt.hist(...,bins=b,density=True,color='green',histtype='step',linewidth=3, label='Observed');\n",
    "plt.xlabel('Chron Duration')\n",
    "plt.title('Geomagnetic Polarity Time Scale 0-41 Myr');\n",
    "plt.legend();"
   ]
  },
  {
   "cell_type": "code",
   "execution_count": null,
   "metadata": {},
   "outputs": [],
   "source": [
    "# theoretical gamma prob distribution\n",
    "chrons = np.arange(0.0,3.0,0.01)\n",
    "gamma_P = np.zeros(len(chrons))\n",
    "for i in np.arange(0,len(chrons),1):\n",
    "    gamma_P[i] = Gamma_probability(chrons[i],theta,alpha) # from above alpha = 1.2 and  theta = avg_dur / alpha\n",
    "\n",
    "\n",
    "# plot\n",
    "plt.plot(...,...,color='cyan', label='Theoretical') # theoretical curve \n",
    "plt.hist(...,bins=b,density=True,color='green',histtype='step',linewidth=3, label='Observed') # observed durations \n",
    "plt.xlabel('Polarity Chron Duration')\n",
    "plt.ylabel('Probability')\n",
    "plt.title('Gamma Distribution');\n",
    "plt.legend();\n",
    "\n"
   ]
  },
  {
   "cell_type": "markdown",
   "metadata": {},
   "source": [
    "We can use the function `np.random.gamma` to simulate additional empirical distributions."
   ]
  },
  {
   "cell_type": "code",
   "execution_count": null,
   "metadata": {},
   "outputs": [],
   "source": [
    "help(np.random.gamma)"
   ]
  },
  {
   "cell_type": "markdown",
   "metadata": {},
   "source": [
    "We'll use the `np.random.gamma` function to simulate 'realistic' data.  \n",
    "\n",
    "`np.random.gamma( )`  has 2 specified parameters: `shape` (sometimes designated \"$\\alpha$\") and `scale` (sometimes designated \"$\\theta$\"), where both parameters are > 0, and  an optional keyword argument `size` (if `size` is not specified, it returns a single trial). Each call to `np.random.gamma( )` returns a chron duration pulled from the gamma distribution.\n"
   ]
  },
  {
   "cell_type": "code",
   "execution_count": null,
   "metadata": {},
   "outputs": [],
   "source": [
    "# empirical simulated gamma prob distribution\n",
    "# from above alpha = 1.2 and  theta = avg_dur / alpha\n",
    "random_chron_dur = np.random.gamma(..., ..., len(chron_duration)-1); \n",
    "\n",
    "\n",
    "# plot\n",
    "plt.plot(...,...,color='cyan', label='Theoretical') # theoretical curve \n",
    "plt.hist(...,bins=b,density=True,color='green',histtype='step',linewidth=3, label='Observed') # observed durations \n",
    "plt.hist(...,bins=b,density=True,color='orange',histtype='step',linewidth=3, label='Simulated') # simulated durations\n",
    "plt.xlabel('Polarity Chron Duration')\n",
    "plt.ylabel('Probability')\n",
    "plt.title('Gamma Distribution');\n",
    "plt.legend();"
   ]
  },
  {
   "cell_type": "markdown",
   "metadata": {},
   "source": [
    "Let's plot this new random polarity time scale!"
   ]
  },
  {
   "cell_type": "code",
   "execution_count": null,
   "metadata": {},
   "outputs": [],
   "source": [
    "# construct the polarity time scale from the chron durations \n",
    "A = np.repeat(np.cumsum(random_chron_dur), 2); # add up durations to get ages and repeat for 1 and -1 polarities\n",
    "random_GPTS = np.zeros(len(A)+2);\n",
    "random_GPTS[1:-1] = A;\n",
    "random_GPTS[-1] = A[-1]+1.0;\n",
    "fill_random_GPTS = np.hstack(([0], random_GPTS, random_GPTS[319])) # add extra points to plot with plt.fill\n",
    "\n",
    "# plot with plt.fill\n",
    "plt.figure(1,(20,2))\n",
    "plt.xxx(fill_random_GPTS,fill_polarity);\n",
    "plt.xlim(0, random_GPTS[319])\n",
    "plt.xlabel('Age, Myr')\n",
    "plt.ylabel('Polarity')\n",
    "plt.title('Simulated Random Geomagnetic Polarity Time Scale');"
   ]
  },
  {
   "cell_type": "markdown",
   "metadata": {},
   "source": [
    "### Will the field reverse soon?!\n",
    "But what we _really_ would like to know is how likely is it that a polarity reversal will happen soon. The current normal chron has been going on for 0.78 Myr. To find the probability that a reversal will happen in the next 10 thousand years we need to find that probability of a chron that is longer than 0.78 Myr but shorter than 0.79 Myr. \n",
    "$$P (0.78 \\le X \\le 0.79) = P(X \\le 0.79) - P(X \\le 0.78) = (1 - P(0.79)) - (1 - P(0.78))$$"
   ]
  },
  {
   "cell_type": "code",
   "execution_count": null,
   "metadata": {},
   "outputs": [],
   "source": [
    "# from above alpha = 1.2 and  theta = avg_dur / alpha\n",
    "soon = ...; #10kyr = 0.01Myr\n",
    "next_rev_prob = (1-Gamma_probability(...,...,...)) - (1-Gamma_probability(...,...,...))\n",
    "print('The probability of a reversal in the next %4.3f Myr: %5.4f' % (soon, next_rev_prob))"
   ]
  },
  {
   "cell_type": "markdown",
   "metadata": {},
   "source": [
    "So it's pretty unlikely, thankfully!"
   ]
  },
  {
   "cell_type": "code",
   "execution_count": null,
   "metadata": {},
   "outputs": [],
   "source": []
  }
 ],
 "metadata": {
  "kernelspec": {
   "display_name": "Python 3",
   "language": "python",
   "name": "python3"
  },
  "language_info": {
   "codemirror_mode": {
    "name": "ipython",
    "version": 3
   },
   "file_extension": ".py",
   "mimetype": "text/x-python",
   "name": "python",
   "nbconvert_exporter": "python",
   "pygments_lexer": "ipython3",
   "version": "3.7.0"
  }
 },
 "nbformat": 4,
 "nbformat_minor": 2
}
