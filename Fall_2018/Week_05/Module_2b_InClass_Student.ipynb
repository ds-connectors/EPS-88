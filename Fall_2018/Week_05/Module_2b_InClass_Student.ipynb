{
 "cells": [
  {
   "cell_type": "markdown",
   "metadata": {},
   "source": [
    "# Module 2, Week 2 In Class Exercise\n",
    "\n",
    "Declustering seismic data.\n",
    "\n",
    "\n",
    "**Last week we:**\n",
    "- pandas DataFrames, indexing, and data cleaning.\n",
    "- Load marine geophysical data (bathymetry and marine magnetic anomalies) from two oceanic ridges.\n",
    "- Select data and drop rows with NaNs.\n",
    "- Plot bathymetry data and evaluate spreading rate.\n",
    "- Declare a function to detrend and filter magnetic anomalie data.\n",
    "- Plot marine magnetic anomaly data and compare spreading rates.\n",
    "\n",
    "**Our goals for today:**\n",
    "- Load a Bay Area seismic catalog.\n",
    "- Compute the distance and time interval between earthquakes, and use these to indentify aftershocks.\n",
    "- Remove the aftershocks from the catalog (decluster).\n"
   ]
  },
  {
   "cell_type": "markdown",
   "metadata": {},
   "source": [
    "## Setup\n",
    "\n",
    "Run this cell as it is to setup your environment."
   ]
  },
  {
   "cell_type": "code",
   "execution_count": null,
   "metadata": {},
   "outputs": [],
   "source": [
    "import math\n",
    "import datetime\n",
    "import numpy as np\n",
    "from scipy import stats\n",
    "import matplotlib\n",
    "import matplotlib.pyplot as plt\n",
    "import cartopy.crs as ccrs\n",
    "import cartopy.feature as cfeature\n",
    "import pandas as pd"
   ]
  },
  {
   "cell_type": "markdown",
   "metadata": {},
   "source": [
    "## Gutenberg Richter Earthquake Occurrence Statistics\n",
    "\n",
    "\n",
    "The frequency of earthquake recurrence as a function of magnitude has been a focus of seismological research since Gutenberg and Richters pioneering work (Gutenberg and Richter, 1949). The evidence shows that the numbers of earthquakes in a given time period scales logarthmically with magnitude. To first order there are 10 times more magnitude 5 earthquakes compared to magnitude 6 events, and 10 times more magnitude 4 earthquakes compared to magnitude 5s.\n",
    "\n",
    "Gutenberg and Richter found that when the logarithm of the number of earthquakes is plotted vs. magnitude that the distribution mqy be plotted as the line, $log(N)=a+bM$, where N is the number of earthquakes, M is the magnitude and a and b are the slope and intercept of a line. For the example described above the b-value is equal to -1 (there are 10 times fewer earthquakes for an increase of one magnitude unit). An important point to keep in mind that these parameters are based on a primary earthquake catalog in which aftershocks have been removed. The process of aftershock removal is called declustering.\n",
    "\n",
    "Why is this important? The a- and b-values are often used to characterize the rates of earthquakes to identify regional variability. The b-value (slope parameter) is often used to distinquish between 'normal' and 'swarm-like' earthquake behavior. In geothermal areas it has been observed that the earthquake distribution is richer in small earthquakes indicating a b-value significantly less than -1. \n",
    "\n",
    "Gutenberg Richter is also used to characterize seismic hazard in a region by defining the annual rate of earthquake occurrence. In this module you will analyze a earthquake catalog downloaded from the Northern California Earthquake Data Center for a 100 km radius around the Berkeley Campus. You will learn how to decluster the seismicity catalog. In subsequent modules you will estimate the Gutenberg Richter a- and b- values, estimate the annual recurrence rates of large earthquake in the region, and utilize the Gutenberg Richter coefficients and their uncertainty to estimate the strong ground shaking hazard for campus."
   ]
  },
  {
   "cell_type": "markdown",
   "metadata": {},
   "source": [
    "## Load the Earthquake Catalog\n",
    "\n",
    "Load the .csv data file of all the earthquakes 1900 - 2018 in the ANSS (Advanced National Seismic System) catalog from 100 km around Berkeley."
   ]
  },
  {
   "cell_type": "code",
   "execution_count": null,
   "metadata": {},
   "outputs": [],
   "source": [
    "# read data\n",
    "# This catalog is a M0+ search centered at Berkeley radius=100km. \n",
    "# A big enough radius to include Loma Prieta but exclude Geysers.\n",
    "data=pd.read_csv('anss_catalog_1900to2018all.txt', sep=' ', delimiter=None, header=None,\n",
    "                 names = ['Year','Month','Day','Hour','Min','Sec','Lat','Lon','Mag'])\n",
    "\n",
    "#  create data arrays\n",
    "year=data.Year.values\n",
    "month=data.Month.values\n",
    "day=data.Day.values\n",
    "hour=data.Hour.values\n",
    "mn=data.Min.values\n",
    "sec=data.Sec.values\n",
    "lat=data.Lat.values\n",
    "lon=data.Lon.values\n",
    "mag=data.Mag.values\n",
    "nevt=len(year)        #number of events \n"
   ]
  },
  {
   "cell_type": "code",
   "execution_count": null,
   "metadata": {},
   "outputs": [],
   "source": [
    "data.head()"
   ]
  },
  {
   "cell_type": "code",
   "execution_count": null,
   "metadata": {},
   "outputs": [],
   "source": [
    "#Make a Map of the earthquake catalog\n",
    "\n",
    "#Set Corners of Map\n",
    "lat0=36.75\n",
    "lat1=39.0\n",
    "lon0=-123.75\n",
    "lon1=-121.0\n",
    "tickstep=0.5 #for axes\n",
    "latticks=np.arange(lat0,lat1+tickstep,tickstep)\n",
    "lonticks=np.arange(lon0,lon1+tickstep,tickstep)\n",
    "\n",
    "\n",
    "plt.figure(1,(10,10))\n",
    "ax = plt.axes(projection=ccrs.PlateCarree())\n",
    "ax.set_extent([lon0, lon1, lat0, lat1], crs=ccrs.PlateCarree())\n",
    "ax.coastlines(resolution='10m',linewidth=1)\n",
    "ax.set_aspect('auto')\n",
    "ax.set_xticks(lonticks)\n",
    "ax.set_yticks(latticks, crs=ccrs.PlateCarree())\n",
    "ax.set(xlabel='Longitude', ylabel='Latitude',\n",
    "       title='Raw Catalog')\n",
    "\n",
    "\n",
    "x=lon\n",
    "y=lat\n",
    "z=mag\n",
    "\n",
    "#Sort Descending to plot largest events on top\n",
    "indx=...   #determine sort index\n",
    "x=x[indx]            #apply sort index\n",
    "y=y[indx]\n",
    "z=np.exp(z[indx])    #exponent to scale marker size\n",
    "\n",
    "c = plt.cm.plasma(z/max(z)) # colormap scales with magnitude\n",
    "plt.scatter(..., ..., s=(z), facecolors=c, alpha=0.4, edgecolors=c, marker='o', linewidth=2) # plot circles on EQs\n",
    "plt.plot(-122.2727,37.8716,'rs',markersize=8)  # plot red square on Berkeley\n",
    "\n",
    "\n",
    "plt.show()"
   ]
  },
  {
   "cell_type": "markdown",
   "metadata": {},
   "source": [
    "## Declustering - window method\n",
    "\n",
    "For each earthquake in the catalog with magnitude M, the subsequent earthquakes are determined to be aftershocks if they occur within a distance L(M) in km and time interval T(M) in days. An example of aftershock windows from Gardner and Knopoff (1974) is shown below."
   ]
  },
  {
   "cell_type": "markdown",
   "metadata": {},
   "source": [
    "<img src=\"Figures/aftershock_windows.png\" width=600>"
   ]
  },
  {
   "cell_type": "code",
   "execution_count": null,
   "metadata": {},
   "outputs": [],
   "source": [
    "mag_range = np.arange(2.5,8.5,0.5)\n",
    "dist_win = [19.5, 22.5, 26, 30, 35, 40, 47, 54, 61, 70, 81, 94]\n",
    "time_win = [6, 11.5, 22, 42, 83, 155, 290, 510, 790, 915, 960, 985]\n",
    "\n",
    "# Create a DataFrame of these window bounds\n",
    "\n",
    "\n"
   ]
  },
  {
   "cell_type": "markdown",
   "metadata": {},
   "source": [
    "Let's plot the window bounds."
   ]
  },
  {
   "cell_type": "code",
   "execution_count": null,
   "metadata": {},
   "outputs": [],
   "source": [
    "fig = plt.figure(1,(20,8))\n",
    "grid = plt.GridSpec(1, 2, wspace=0.2, hspace=0.3)\n",
    "\n",
    "ax0=fig.add_subplot(grid[0,0])\n",
    "ax1=fig.add_subplot(grid[0,1])\n",
    "\n",
    "ax0.plot(...,...,'ro');\n",
    "ax0.set_xlabel('Magnitude ', fontsize=16);\n",
    "ax0.set_ylabel('Distance, km', fontsize=16);\n",
    "ax0.grid()\n",
    "\n",
    "\n",
    "ax1.plot(...,...,'ro');\n",
    "ax1.set_xlabel('Magnitude ', fontsize=16);\n",
    "ax1.set_ylabel('Time, days', fontsize=16);\n",
    "ax1.grid()"
   ]
  },
  {
   "cell_type": "markdown",
   "metadata": {},
   "source": [
    "An approximation of the aftershock window bounds of Gardner and Knopoff (1974) is shown in the equation below. Using this approximation makes programming the windowing algorithm easier. "
   ]
  },
  {
   "cell_type": "markdown",
   "metadata": {},
   "source": [
    "<img src=\"Figures/window_approx.png\" >"
   ]
  },
  {
   "cell_type": "markdown",
   "metadata": {},
   "source": [
    "Use `np.power(base, exponent)` to compute the distance and time interval bounds as functions of `mag_range`."
   ]
  },
  {
   "cell_type": "code",
   "execution_count": null,
   "metadata": {},
   "outputs": [],
   "source": [
    "d =np.power(...)     # aftershock distance as a function of magnitude\n",
    "t1=np.power(...) # aftershock time interval as a function of magnitude for M < 6.5\n",
    "t2=np.power(...) # aftershock time interval as a function of magnitude for M >= 6.5\n"
   ]
  },
  {
   "cell_type": "markdown",
   "metadata": {},
   "source": [
    "Add these approximated window bounds to the figure for comparison. "
   ]
  },
  {
   "cell_type": "code",
   "execution_count": null,
   "metadata": {},
   "outputs": [],
   "source": [
    "fig = plt.figure(1,(20,8))\n",
    "grid = plt.GridSpec(1, 2, wspace=0.2, hspace=0.3)\n",
    "\n",
    "ax0=fig.add_subplot(grid[0,0])\n",
    "ax1=fig.add_subplot(grid[0,1])\n",
    "\n",
    "ax0.plot(mag_range,d,'bs',label='approximation');\n",
    "ax0.plot(mag_range,dist_win,'ro',label='original window');\n",
    "ax0.set_xlabel('Magnitude ', fontsize=16);\n",
    "ax0.set_ylabel('Distance, km', fontsize=16);\n",
    "ax0.set_title('Aftershock Identification Windows', fontsize=16);\n",
    "ax0.legend(fontsize=16);\n",
    "ax0.grid()\n",
    "\n",
    "ax1.plot(mag_range[:8],t1,'bs');\n",
    "ax1.plot(mag_range[8:],t2,'bs');\n",
    "ax1.plot(mag_range,time_win,'ro');\n",
    "ax1.set_xlabel('Magnitude ', fontsize=16);\n",
    "ax1.set_ylabel('Time, days', fontsize=16);\n",
    "ax1.grid()"
   ]
  },
  {
   "cell_type": "markdown",
   "metadata": {},
   "source": [
    "To build our algorithm to identify aftershocks using these windows we need to convert the year-month-day formate of dates to a timeline in number of days. We'll do this using the function `datetime.date()` which for a given year, month, and day returns a datetime class object, which can be used to compute the time interval in days."
   ]
  },
  {
   "cell_type": "code",
   "execution_count": null,
   "metadata": {},
   "outputs": [],
   "source": [
    "#Determine the number of days from the first event\n",
    "days=np.zeros(nevt) # initialize the size of the array days\n",
    "for i in range(0,nevt,1):\n",
    "    d0 = datetime.date(year[0], month[0], day[0])\n",
    "    d1 = datetime.date(year[i], month[i], day[i])\n",
    "    delta = d1 - d0\n",
    "    days[i]=delta.days # fill days in with the number of days since the first event (7/1/1911)\n"
   ]
  },
  {
   "cell_type": "code",
   "execution_count": null,
   "metadata": {},
   "outputs": [],
   "source": [
    "# plot magnitude vs. time\n",
    "fig, ax = plt.subplots(figsize=(10,10))\n",
    "ax.plot(days, mag,'o',alpha=...,markersize=5)\n",
    "ax.set(xlabel='Days', ylabel='Magnitude',\n",
    "       title='Raw Event Catalog')\n",
    "ax.grid()\n",
    "\n",
    "fig.savefig(\"figure1.png\")\n",
    "plt.show()\n",
    "\n",
    "print(f'Number={nevt:d} MinMag={min(mag):.2f} MaxMag={max(mag):.2f}')"
   ]
  },
  {
   "cell_type": "markdown",
   "metadata": {},
   "source": [
    "We also need a function to compute the great circle distance in km between earthquakes. We'll use the haversine formula for the great circle distance which is works well conditioned for small distances.\n",
    "\n",
    "<img src=\"Figures/great_circle_eqn.png\" >\n",
    "\n",
    "\n",
    "<img src=\"Figures/Illustration_of_great-circle_distance.svg\" >\n",
    "Great-circle distance shown in red between two points on a sphere, P and Q. \n",
    "Source: https://en.wikipedia.org/wiki/Great-circle_distance"
   ]
  },
  {
   "cell_type": "code",
   "execution_count": null,
   "metadata": {},
   "outputs": [],
   "source": [
    "#This function computes the spherical earth distance between to geographic points and is used in the\n",
    "#declustering algorithm below\n",
    "def haversine_np(lon1, lat1, lon2, lat2):\n",
    "    \"\"\"\n",
    "    Calculate the great circle distance between two points\n",
    "    on the earth (specified in decimal degrees)\n",
    "\n",
    "    All args must be of equal length.\n",
    "    \n",
    "    The first pair can be singular and the second an array\n",
    "\n",
    "    \"\"\"\n",
    "    lon1, lat1, lon2, lat2 = map(np.radians, [lon1, lat1, lon2, lat2]) # convert degrees lat, lon to radians\n",
    "\n",
    "    dlon = lon2 - lon1\n",
    "    dlat = lat2 - lat1\n",
    "\n",
    "    a = ...  # great circle inside sqrt\n",
    "\n",
    "    c = ...   # great circle angular separation\n",
    "    km = 6371.0 * c   # great circle distance in km, earth radius = 6371.0 km\n",
    "    return km"
   ]
  },
  {
   "cell_type": "markdown",
   "metadata": {},
   "source": [
    "__Declustering Algorithm Time!__\n",
    "\n",
    "We'll build our `for` loop for indentifying aftershocks in the seismic catalog."
   ]
  },
  {
   "cell_type": "code",
   "execution_count": null,
   "metadata": {},
   "outputs": [],
   "source": [
    "#Decluster the Catalog  Note: This cell may take a few minute to complete\n",
    "cnt=0 # initialize a counting variable\n",
    "save=np.zeros((1,10000000),dtype=int) # initialize a counting variable\n",
    "for i in range(0,nevt,1):   # step through EQ catalog\n",
    "    # logical if statements to incorporate definitions of Dtest and Ttest aftershock window bounds\n",
    "    Dtest=...   # distance bounds\n",
    "    if mag[i] >= 6.5:\n",
    "        Ttest=...  # aftershock time bounds for M >= 6.5\n",
    "    else:\n",
    "        Ttest=...  # aftershock time bounds for M < 6.5\n",
    "    \n",
    "    ...    # time interval in days to subsequent earthquakes in catalog\n",
    "    ...   # magnitudes of subsequent earthquakes in catalog\n",
    "    ... # distance in km to subsequent EQs in catalog\n",
    "    \n",
    "    ...   # counts the number of potential aftershocks, \n",
    "                                        # the number of intervals <= Ttest bound\n",
    "    ...  # if there are potential aftershocks\n",
    "        ... # indices of potential aftershocks <= Ttest bound\n",
    "        ...   # loops over the aftershocks         \n",
    "            ... # test if the event is inside the distance window \n",
    "                                                # and that the event is smaller than the current main EQ\n",
    "                ...  # index value of the aftershock\n",
    "                ... # increment the counting variable\n",
    "\n",
    "                \n",
    "...   # This is an array of indexes that will be used to delete events flagged \n",
    "                                      # as aftershocks    \n"
   ]
  },
  {
   "cell_type": "markdown",
   "metadata": {},
   "source": [
    "Use `np.delete(array,indices_to_delete)` to delete the aftershock events."
   ]
  },
  {
   "cell_type": "code",
   "execution_count": null,
   "metadata": {},
   "outputs": [],
   "source": [
    "# delete the aftershock events\n",
    "declustered_days=np.delete(days,af_ind)  #The aftershocks are deleted from the days array \n",
    "declustered_mag=np.delete(mag,af_ind)    #The aftershocks are deleted from the mag array \n",
    "declustered_lon=np.delete(lon,af_ind)    #The aftershocks are deleted from the lon array \n",
    "declustered_lat=np.delete(lat,af_ind)    #The aftershocks are deleted from the lat array \n",
    "n=len(declustered_days)\n",
    "  "
   ]
  },
  {
   "cell_type": "code",
   "execution_count": null,
   "metadata": {},
   "outputs": [],
   "source": [
    "#Plot DeClustered Catalog\n",
    "fig, ax = plt.subplots(figsize=(10,10))\n",
    "ax.plot(..., ...,'o',alpha=0.2,markersize=5)\n",
    "ax.set(xlabel='days', ylabel='magnitude',\n",
    "       title='Declustered Event Catalog')\n",
    "ax.grid()\n",
    "\n",
    "plt.show()\n",
    "\n",
    "print(f'Number={n:d} MinMag={min(declustered_mag):.2f} MaxMag={max(declustered_mag):.2f}')"
   ]
  },
  {
   "cell_type": "markdown",
   "metadata": {},
   "source": [
    "Reminder of the raw catalog:"
   ]
  },
  {
   "cell_type": "markdown",
   "metadata": {},
   "source": [
    "<img src=\"figure1.png\" >"
   ]
  },
  {
   "cell_type": "code",
   "execution_count": null,
   "metadata": {},
   "outputs": [],
   "source": [
    "# Plot comparison between raw and declustered catalogs\n",
    "fig, ax = plt.subplots(figsize=(10,10))\n",
    "ax.plot(..., ...,'o',alpha=...,label='Raw events',markersize=5)\n",
    "ax.plot(..., ...,'o',alpha=...,label='Main shocks',markersize=6)\n",
    "ax.set(xlabel='days', ylabel='magnitude',\n",
    "       title='Declustered Event Catalog')\n",
    "ax.grid()\n",
    "ax.legend()\n",
    "\n",
    "plt.show()"
   ]
  },
  {
   "cell_type": "markdown",
   "metadata": {},
   "source": [
    "At approximately what dates (in day since first EQ) do you observe aftershock sequences?"
   ]
  },
  {
   "cell_type": "markdown",
   "metadata": {},
   "source": [
    "_Write your answer here._"
   ]
  },
  {
   "cell_type": "markdown",
   "metadata": {},
   "source": [
    "When are the aftershock sequence (and events in general) missing from this catalog?"
   ]
  },
  {
   "cell_type": "markdown",
   "metadata": {},
   "source": [
    "_Write your answer here._"
   ]
  },
  {
   "cell_type": "code",
   "execution_count": null,
   "metadata": {},
   "outputs": [],
   "source": [
    "#Make a Map of Main shock events\n",
    "\n",
    "#Set Corners of Map\n",
    "lat0=36.75\n",
    "lat1=39.0\n",
    "lon0=-123.75\n",
    "lon1=-121.0\n",
    "tickstep=0.5 #for axes\n",
    "latticks=np.arange(lat0,lat1+tickstep,tickstep)\n",
    "lonticks=np.arange(lon0,lon1+tickstep,tickstep)\n",
    "\n",
    "plt.figure(1,(10,10))\n",
    "ax = plt.axes(projection=ccrs.PlateCarree())\n",
    "ax.set_extent([lon0, lon1, lat0, lat1], crs=ccrs.PlateCarree())\n",
    "ax.set_aspect('auto')\n",
    "ax.coastlines(resolution='10m',linewidth=1) #downloaded 10m, 50m\n",
    "ax.set_xticks(lonticks)\n",
    "ax.set_yticks(latticks, crs=ccrs.PlateCarree())\n",
    "ax.set(xlabel='Longitude', ylabel='Latitude',\n",
    "       title='Declustered Catalog')\n",
    "\n",
    "\n",
    "x=declustered_lon\n",
    "y=declustered_lat\n",
    "z=declustered_mag\n",
    "\n",
    "#Sort Descending to plot largest events on top\n",
    "indx=np.argsort(z)   #determine sort index\n",
    "x=x[indx]            #apply sort index\n",
    "y=y[indx]\n",
    "z=np.exp(z[indx])    #exponent to scale size\n",
    "\n",
    "c = plt.cm.plasma(z/max(z))\n",
    "plt.scatter(..., ..., s=(z/2), facecolors=c, alpha=0.4, edgecolors=c, marker='o', linewidth=2)\n",
    "plt.plot(-122.2727,37.8716,'rs',markersize=8)\n",
    "\n",
    "\n",
    "plt.show()"
   ]
  },
  {
   "cell_type": "markdown",
   "metadata": {},
   "source": [
    "<img src=\"Figures/fault_map.png\" width=700>\n",
    "Map of Bay Area faults. \n",
    "Source: https://pubs.er.usgs.gov/publication/fs20163020"
   ]
  },
  {
   "cell_type": "markdown",
   "metadata": {},
   "source": [
    "What faults have been active since 1911?"
   ]
  },
  {
   "cell_type": "markdown",
   "metadata": {},
   "source": [
    "_Write your answer here._"
   ]
  }
 ],
 "metadata": {
  "kernelspec": {
   "display_name": "Python 3",
   "language": "python",
   "name": "python3"
  },
  "language_info": {
   "codemirror_mode": {
    "name": "ipython",
    "version": 3
   },
   "file_extension": ".py",
   "mimetype": "text/x-python",
   "name": "python",
   "nbconvert_exporter": "python",
   "pygments_lexer": "ipython3",
   "version": "3.6.6"
  }
 },
 "nbformat": 4,
 "nbformat_minor": 2
}
