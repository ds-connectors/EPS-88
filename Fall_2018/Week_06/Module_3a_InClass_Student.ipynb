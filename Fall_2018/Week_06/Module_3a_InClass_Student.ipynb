{
 "cells": [
  {
   "cell_type": "markdown",
   "metadata": {},
   "source": [
    "# Module 3, Week 1 In Class Exercise\n",
    "\n",
    "Linear regression\n",
    "\n",
    "**Before class reading: Data 8 textbook Chapter 15  **\n",
    "\n",
    "**Last week we:**\n",
    "- Load a Bay Area seismic catalog.\n",
    "- Compute the distance and time interval between earthquakes, and use these to indentify aftershocks.\n",
    "- Remove the aftershocks from the catalog (decluster).\n",
    "\n",
    "**Our goals for today:**\n",
    "- Learn how to deal with bivariate data (fitting lines, curves).\n",
    "- Apply line fitting to determine the spreading rate of various ocean ridges"
   ]
  },
  {
   "cell_type": "markdown",
   "metadata": {},
   "source": [
    "## Setup\n",
    "\n",
    "Run this cell as it is to setup your environment."
   ]
  },
  {
   "cell_type": "code",
   "execution_count": null,
   "metadata": {},
   "outputs": [],
   "source": [
    "import numpy as np\n",
    "import matplotlib\n",
    "import matplotlib.pyplot as plt\n",
    "import pandas as pd\n",
    "from scipy import stats\n",
    "from cartopy import config\n",
    "import cartopy.crs as ccrs"
   ]
  },
  {
   "cell_type": "markdown",
   "metadata": {},
   "source": [
    "### Bivariate statistics\n",
    "\n",
    "There are many examples in the Earth Sciences where we are interested in the dependence between two types of data.  For example, the distance from the ridge crest versus age gives you a spreading rate.  The depth in a sediment core versus age gives you a sedimentation rate.  The ratio of the radioactive form of carbon, $^{14}$C, to a stable form,$^{12}$C, is a function of the age of the material being dated. The difference in arrival times of the $P$ and $S$ seismic waves is related to distance from the earthquake source to the seismometer receiver. These examples rely on the use of bivariate statistics to get at the desired quantities.\n",
    "\n",
    "\n",
    "If two variables are associated or dependent, they will show a correlation, or trend, when plotted. Independent variables will show no relation i.e. just scatter. \n",
    "\n",
    "<img src=\"Figures/Correlation_examples.svg\" width=900>\n",
    "> Pearson correlation coefficient between several example X,Y sets. Source: https://en.wikipedia.org/wiki/Correlation_and_dependence\n",
    "\n",
    "The simplest dependence between two variables is linear, where one variable is proportional to the other. This relationship can be described with the equation $y = mx +b$, where $m$ is the slope of the line and $b$ is the line's y-axis intercept. This equation is called the _model_.\n",
    "\n",
    "With just two data points the slope of the line connecting them can be found. There are two data to constrain the two unknowns $m$ and $b$. Once the model is developed it can be used to determine the $y$ for an given $x$."
   ]
  },
  {
   "cell_type": "code",
   "execution_count": null,
   "metadata": {},
   "outputs": [],
   "source": [
    "x = np.asarray([3.0, 5.0]);\n",
    "y = np.asarray([2.0, 7.0]);\n",
    "\n",
    "m = ...; # use the two points to find the slope rise/run, dy/dx\n",
    "b = ...; # solve for the y-intercept\n",
    "\n",
    "plt.figure(1,(5,5)) \n",
    "plt.plot(x,y,'o')\n",
    "plt.plot(x,m*x+b,'-')\n",
    "plt.xlabel('X ', fontsize=16);\n",
    "plt.ylabel('Y', fontsize=16);\n",
    "plt.grid()"
   ]
  },
  {
   "cell_type": "markdown",
   "metadata": {},
   "source": [
    "However, the more usual case we have in Earth Sciences is an _overdetermined_ problem. There is more data than unknowns in our model. The data will also be scattered. For overdetermined problems we find the best fitting line to the date. This is the line that minimizes the misfit between data and the model. This is called _linear regression_ and a method of _least squares_ is used, where the _mean squared_ misfit is minimized."
   ]
  },
  {
   "cell_type": "markdown",
   "metadata": {},
   "source": [
    "<img src=\"Figures/best_fit.png\" width=300> <img src=\"Figures/worse_fit.png\" width=300>\n",
    ">Source: https://www.inferentialthinking.com/chapters/15/3/Method_of_Least_Squares"
   ]
  },
  {
   "cell_type": "code",
   "execution_count": null,
   "metadata": {},
   "outputs": [],
   "source": [
    "# make up some randomly scattered linearly related data\n",
    "x = np.random.randn(100)*5\n",
    "m = 2\n",
    "b = np.random.rand(100)*10\n",
    "y = m*x+b"
   ]
  },
  {
   "cell_type": "code",
   "execution_count": null,
   "metadata": {},
   "outputs": [],
   "source": [
    "# plot the data\n",
    "plt.figure(1,(5,5)) \n",
    "plt.plot(x,y,'o')\n",
    "plt.xlabel('X ', fontsize=16);\n",
    "plt.ylabel('Y', fontsize=16);\n",
    "plt.grid()"
   ]
  },
  {
   "cell_type": "markdown",
   "metadata": {},
   "source": [
    "To fit a line, $y = mx + b$, through some noisy data-points we can use the numpy functions `np.polyfit` and `np.polyval`. `np.polyfit` takes the $x$ and $y$ data arrays, and the degree of our model (1 for linear, 2 for quadratic, etc.) as inputs, and returns the model parameters of the least-squares best-fit line as outputs. `np.polyval` takes the model parameters and any $x$ values as input, and returns the $y$ values of the model at the given $x$ values. Another function, which we will look at next week, that returns the model parameters of a least-squares best-fit line is `np.linalg.lstsq`."
   ]
  },
  {
   "cell_type": "code",
   "execution_count": null,
   "metadata": {},
   "outputs": [],
   "source": [
    "m, b = np.polyfit(...,...,1)\n",
    "modelY=np.polyval([m, b],...)\n",
    "\n",
    "print ('slope: %7.3f, intercept: %4.1f'%\\\n",
    "    (m, b))"
   ]
  },
  {
   "cell_type": "markdown",
   "metadata": {},
   "source": [
    "This matches the _real_ values of $m$ and $b$ which we used to create the scattered data pretty well."
   ]
  },
  {
   "cell_type": "code",
   "execution_count": null,
   "metadata": {},
   "outputs": [],
   "source": [
    "# now plot the data and the best-fit line \n",
    "plt.figure(1,(5,5)) \n",
    "plt.plot(x,y,'o')\n",
    "plt.plot(x,modelY,'k-') \n",
    "plt.xlabel('X', fontsize=16);\n",
    "plt.ylabel('Y', fontsize=16);\n",
    "plt.grid()"
   ]
  },
  {
   "cell_type": "markdown",
   "metadata": {},
   "source": [
    "We'd also like to know who well this model fits our data i.e. how correlated the data are. We'll use the $R^{2}$ correlation coefficient for this. $R^{2}$ is zero for uncorrelated data, and 1 for perfectly linear data (so no misfit between the model line and data). We'll use the scipy function `stats.linregress` to compute $R^{2}$.\n",
    "\n"
   ]
  },
  {
   "cell_type": "code",
   "execution_count": null,
   "metadata": {},
   "outputs": [],
   "source": [
    "# compute the fit statistics  \n",
    "slope, intercept, r_value, p_value, std_err = stats.linregress(x,y)\n",
    "\n",
    "print ('slope: %7.3f, intercept: %4.1f, R^2: %5.3f'%\\\n",
    "    (slope, intercept, r_value**2))"
   ]
  },
  {
   "cell_type": "markdown",
   "metadata": {},
   "source": [
    "## Seafloor Spreading Rates\n",
    "\n",
    "Now we will look at the relationship between seafloor age (Myr) and distance from the ridge (km) to determine the velocity of the spreading between oceanic plates (km/Myr)."
   ]
  },
  {
   "cell_type": "markdown",
   "metadata": {},
   "source": [
    "### Mid-Atlantic Ridge"
   ]
  },
  {
   "cell_type": "code",
   "execution_count": null,
   "metadata": {},
   "outputs": [],
   "source": [
    "# data from the Mid-Atlantic Ridge\n",
    "atlantic_data=pd.read_csv('MAR_age_dist.csv')\n",
    "atlantic_data.head()"
   ]
  },
  {
   "cell_type": "markdown",
   "metadata": {},
   "source": [
    "We'll plot the location of these age picks."
   ]
  },
  {
   "cell_type": "code",
   "execution_count": null,
   "metadata": {},
   "outputs": [],
   "source": [
    "# set up plot and extent of map\n",
    "fig, ax = plt.subplots(figsize=(20,9))\n",
    "ax = plt.axes(projection=ccrs.Robinson(-46.0))\n",
    "lat0=0.0\n",
    "lat1=60.0\n",
    "lon0=-90.0\n",
    "lon1=0\n",
    "ax.set_extent([lon0, lon1, lat0, lat1], crs=ccrs.PlateCarree())\n",
    "\n",
    "# colormap\n",
    "z = atlantic_data.Age\n",
    "clrmap = matplotlib.cm.get_cmap('jet_r')\n",
    "normalize = matplotlib.colors.Normalize(vmin=0, vmax=150)\n",
    "colors = [cmap(normalize(value)) for value in z]\n",
    "\n",
    "# plot age pick locations on map with color set by age\n",
    "ax.scatter(atlantic_data.Lon,atlantic_data.Lat,marker='o',color=colors,transform=ccrs.PlateCarree())\n",
    "cax, _ = matplotlib.colorbar.make_axes(ax)\n",
    "cbar = matplotlib.colorbar.ColorbarBase(cax, cmap=clrmap, norm=normalize)\n",
    "\n",
    "plt.title('Age Myr')\n",
    "ax.coastlines()\n",
    "ax.stock_img()\n",
    "ax.gridlines()\n",
    "\n",
    "plt.show()"
   ]
  },
  {
   "cell_type": "markdown",
   "metadata": {},
   "source": [
    "Next we'll plot the distance from the ridge as a function of seafloor age. "
   ]
  },
  {
   "cell_type": "code",
   "execution_count": null,
   "metadata": {},
   "outputs": [],
   "source": [
    "plt.figure(1,(10,10)) \n",
    "plt.plot(atlantic_data.Age,atlantic_data.Distance,'o')\n",
    "plt.xlabel('Age, Myr ', fontsize=16);\n",
    "plt.ylabel('Distance, km', fontsize=16);\n",
    "plt.grid()"
   ]
  },
  {
   "cell_type": "code",
   "execution_count": null,
   "metadata": {},
   "outputs": [],
   "source": [
    "# Declare variables for the columns we'll be using further.\n",
    "age = atlantic_data.Age\n",
    "abs_dist = abs(atlantic_data.Distance)"
   ]
  },
  {
   "cell_type": "code",
   "execution_count": null,
   "metadata": {},
   "outputs": [],
   "source": [
    "plt.figure(1,(10,10)) \n",
    "plt.plot(age,abs_dist,'o')\n",
    "plt.xlabel('Age, Myr ', fontsize=16);\n",
    "plt.ylabel('Distance, km', fontsize=16);\n",
    "plt.grid()"
   ]
  },
  {
   "cell_type": "code",
   "execution_count": null,
   "metadata": {},
   "outputs": [],
   "source": [
    "m, b= np.polyfit(...,...,1)\n",
    "print ('Spreading rate (km/Myr): %7.3f, intercept (km): %4.1f'%(m,b))"
   ]
  },
  {
   "cell_type": "code",
   "execution_count": null,
   "metadata": {},
   "outputs": [],
   "source": [
    "modelYs=np.polyval(...,...)\n",
    "\n",
    "# now plot the data and the best-fit line: \n",
    "plt.figure(1,(10,10)) \n",
    "plt.plot(age,abs_dist,'o')\n",
    "plt.plot(age,modelYs,'k-') # plot as black line\n",
    "plt.xlabel('Age, Myr ', fontsize=16);\n",
    "plt.ylabel('Distance, km', fontsize=16);\n",
    "plt.grid()"
   ]
  },
  {
   "cell_type": "markdown",
   "metadata": {},
   "source": [
    "It looks like the data from before 100 Myr have a different slope than the data after 100 Myr. Let's fit them separately. "
   ]
  },
  {
   "cell_type": "code",
   "execution_count": null,
   "metadata": {},
   "outputs": [],
   "source": [
    "m_young,b_young = np.polyfit(...,...,1)\n",
    "m_old,b_old = np.polyfit(...,...,1)\n",
    "\n",
    "modelY1=np.polyval(...,...)\n",
    "modelY2=np.polyval(...,...)\n",
    "\n",
    "# now plot the data and the best-fit line: \n",
    "plt.figure(1,(10,10)) \n",
    "plt.plot(age,abs_dist,'o')\n",
    "plt.plot(age[age<100],modelY1,'k-') # plot as black line\n",
    "plt.plot(age[age>100],modelY2,'k-') # plot as black line\n",
    "plt.xlabel('Age, Myr ', fontsize=16);\n",
    "plt.ylabel('Distance, km', fontsize=16);\n",
    "plt.grid()"
   ]
  },
  {
   "cell_type": "code",
   "execution_count": null,
   "metadata": {},
   "outputs": [],
   "source": [
    "print ('Spreading rate since 100 Myr (km/Myr): %7.3f'%(m_young))\n",
    "print ('Spreading rate before 100 Myr (km/Myr): %7.3f'%(m_old))"
   ]
  },
  {
   "cell_type": "markdown",
   "metadata": {},
   "source": [
    "Did spreading at the Mid-Atlantic Ridge speed up or slow down?"
   ]
  },
  {
   "cell_type": "markdown",
   "metadata": {},
   "source": [
    "_Write your answer here._"
   ]
  },
  {
   "cell_type": "markdown",
   "metadata": {},
   "source": [
    "By how much?"
   ]
  },
  {
   "cell_type": "markdown",
   "metadata": {},
   "source": [
    "_Write your answer here._"
   ]
  },
  {
   "cell_type": "markdown",
   "metadata": {},
   "source": [
    "### East Pacific Rise"
   ]
  },
  {
   "cell_type": "code",
   "execution_count": null,
   "metadata": {},
   "outputs": [],
   "source": [
    "# data from the Pacific Antarctic Ridge\n",
    "pacific_data=pd.read_csv('PAR_age_dist.csv')\n",
    "pacific_data.head()"
   ]
  },
  {
   "cell_type": "markdown",
   "metadata": {},
   "source": [
    "We'll plot the location of these age picks."
   ]
  },
  {
   "cell_type": "code",
   "execution_count": null,
   "metadata": {},
   "outputs": [],
   "source": [
    "# set up figure and map extent\n",
    "fig, ax = plt.subplots(figsize=(20,9))\n",
    "ax = plt.axes(projection=ccrs.Robinson(-113.0))\n",
    "lat0=-40.0\n",
    "lat1=-80.0\n",
    "lon0=-175.0\n",
    "lon1=-90.0\n",
    "ax.set_extent([lon0, lon1, lat0, lat1], crs=ccrs.PlateCarree())\n",
    "\n",
    "# colormap scaled with age\n",
    "z = pacific_data.Age\n",
    "cmap = matplotlib.cm.get_cmap('jet_r')\n",
    "normalize = matplotlib.colors.Normalize(vmin=0, vmax=150)\n",
    "colors = [cmap(normalize(value)) for value in z]\n",
    "\n",
    "#scatter plot of age locations\n",
    "ax.scatter(pacific_data.Lon,pacific_data.Lat,marker='o',color=colors,transform=ccrs.PlateCarree())\n",
    "cax, _ = matplotlib.colorbar.make_axes(ax)\n",
    "cbar = matplotlib.colorbar.ColorbarBase(cax, cmap=cmap, norm=normalize)\n",
    "\n",
    "plt.title('Age Myr')\n",
    "ax.coastlines()\n",
    "ax.stock_img()\n",
    "ax.gridlines()\n",
    "\n",
    "plt.show()"
   ]
  },
  {
   "cell_type": "markdown",
   "metadata": {},
   "source": [
    "What do you notice about this dataset with regards to the time span and data spacing in comparison with the data from the Atlantic?"
   ]
  },
  {
   "cell_type": "markdown",
   "metadata": {},
   "source": [
    "_Write your answer here._"
   ]
  },
  {
   "cell_type": "code",
   "execution_count": null,
   "metadata": {},
   "outputs": [],
   "source": [
    "plt.figure(1,(10,10)) \n",
    "plt.plot(pacific_data.Age,pacific_data.Distance,'o')\n",
    "\n",
    "plt.xlabel('Age, Myr ', fontsize=16);\n",
    "plt.ylabel('Distance, km', fontsize=16);\n",
    "plt.text(10,2000, 'Eastern Side', fontsize=16);\n",
    "plt.text(10,1700, 'Antarctic Plate', fontsize=16);\n",
    "plt.text(10,-2000, 'Western Side', fontsize=16);\n",
    "plt.text(10,-2300, 'Pacific Plate', fontsize=16);\n",
    "plt.grid()"
   ]
  },
  {
   "cell_type": "code",
   "execution_count": null,
   "metadata": {},
   "outputs": [],
   "source": [
    "# Declare variables for the columns we'll be using further.\n",
    "age = pacific_data.Age\n",
    "dist = pacific_data.Distance"
   ]
  },
  {
   "cell_type": "markdown",
   "metadata": {},
   "source": [
    "Fit the Pacific and Antarctic plates with separate best-fit lines. Use Boolean indexing i.e. `dist > 0` and `dist < 0`, `polyfit` and `polyval`."
   ]
  },
  {
   "cell_type": "code",
   "execution_count": null,
   "metadata": {},
   "outputs": [],
   "source": []
  },
  {
   "cell_type": "markdown",
   "metadata": {},
   "source": [
    "Plot the data and the best-fit lines."
   ]
  },
  {
   "cell_type": "code",
   "execution_count": null,
   "metadata": {},
   "outputs": [],
   "source": []
  },
  {
   "cell_type": "markdown",
   "metadata": {},
   "source": [
    "Print the spreading rates."
   ]
  },
  {
   "cell_type": "code",
   "execution_count": null,
   "metadata": {},
   "outputs": [],
   "source": []
  },
  {
   "cell_type": "markdown",
   "metadata": {},
   "source": [
    "Which plate is spreading faster?"
   ]
  },
  {
   "cell_type": "markdown",
   "metadata": {},
   "source": [
    "_Write your answer here._"
   ]
  },
  {
   "cell_type": "markdown",
   "metadata": {},
   "source": [
    "How fast are a point on the Antarctic plate and a point of the Pacific plate moving apart?"
   ]
  },
  {
   "cell_type": "markdown",
   "metadata": {},
   "source": [
    "_Write your answer here._"
   ]
  },
  {
   "cell_type": "markdown",
   "metadata": {},
   "source": [
    "How good are these fits? Compute and print the $R^2$ correlation coefficient."
   ]
  },
  {
   "cell_type": "code",
   "execution_count": null,
   "metadata": {},
   "outputs": [],
   "source": [
    "# compute the fit statistics \n",
    "slope, intercept, r_value_ant, p_value, std_err = stats.linregress(age[(dist > 0)],dist[(dist > 0)])\n",
    "print ('R^2 Antarctic plate: %5.3f'%(r_value_ant**2))\n",
    "\n",
    "# Pacific plate\n",
    "\n"
   ]
  },
  {
   "cell_type": "markdown",
   "metadata": {},
   "source": [
    "Does this make sense with how scattered about the lines the data look?"
   ]
  },
  {
   "cell_type": "markdown",
   "metadata": {},
   "source": [
    "_Write your answer here._"
   ]
  },
  {
   "cell_type": "code",
   "execution_count": null,
   "metadata": {},
   "outputs": [],
   "source": []
  }
 ],
 "metadata": {
  "kernelspec": {
   "display_name": "Python 3",
   "language": "python",
   "name": "python3"
  },
  "language_info": {
   "codemirror_mode": {
    "name": "ipython",
    "version": 3
   },
   "file_extension": ".py",
   "mimetype": "text/x-python",
   "name": "python",
   "nbconvert_exporter": "python",
   "pygments_lexer": "ipython3",
   "version": "3.6.6"
  }
 },
 "nbformat": 4,
 "nbformat_minor": 2
}
