{
 "cells": [
  {
   "cell_type": "markdown",
   "metadata": {},
   "source": [
    "# Module 3, Week 1 Homework\n",
    "\n",
    "Linear regression\n",
    "\n",
    "**Before class reading: Data 8 textbook Chapter 15  **\n",
    "\n",
    "**Last week we:**\n",
    "- Load a Bay Area seismic catalog.\n",
    "- Compute the distance and time interval between earthquakes, and use these to indentify aftershocks.\n",
    "- Remove the aftershocks from the catalog (decluster).\n",
    "\n",
    "**Our goals for today:**\n",
    "- Learn how to deal with bivariate data (fitting lines, curves).\n",
    "- Apply line fitting to determine the spreading rate of various ocean ridges\n",
    "\n",
    "**Due Date: October 5th, 9:59 am**"
   ]
  },
  {
   "cell_type": "markdown",
   "metadata": {},
   "source": [
    "## Setup\n",
    "\n",
    "Run this cell as it is to setup your environment."
   ]
  },
  {
   "cell_type": "code",
   "execution_count": null,
   "metadata": {},
   "outputs": [],
   "source": [
    "import numpy as np\n",
    "import matplotlib\n",
    "import matplotlib.pyplot as plt\n",
    "import pandas as pd\n",
    "from scipy import stats\n",
    "from cartopy import config\n",
    "import cartopy.crs as ccrs"
   ]
  },
  {
   "cell_type": "markdown",
   "metadata": {},
   "source": [
    "## Atmospheric Carbon Dioxide Concentration"
   ]
  },
  {
   "cell_type": "markdown",
   "metadata": {},
   "source": [
    "Frequent and regular measurements of atmospheric carbon dioxide concentration have been collected at the Mauna Loa Observatory in Hawaii since 1958. Carbon dioxide is an important green house gas. The mean atmospheric CO$_{2}$ was between 275 and 285 ppmv during the Holocene epoch. CO$_{2}$ is released into the amosphere by the buring of fossil fuals, and the concentration has been rising since the early nineteenth century."
   ]
  },
  {
   "cell_type": "code",
   "execution_count": null,
   "metadata": {},
   "outputs": [],
   "source": [
    "# Monthly Average Carbon Dioxide Concentration in parts per million (ppm) \n",
    "# measured at Mauna Loa Observatory, Hawaii\n",
    "# source: https://scripps.ucsd.edu/programs/keelingcurve/permissions-and-data-sources/\n",
    "data=pd.read_csv('monthly_in_situ_co2_mlo.csv')\n",
    "data.head()"
   ]
  },
  {
   "cell_type": "markdown",
   "metadata": {},
   "source": [
    "Plot the data, CO$_{2}$ concentration as a function of Date. Don't forget to label the axes."
   ]
  },
  {
   "cell_type": "code",
   "execution_count": null,
   "metadata": {},
   "outputs": [],
   "source": []
  },
  {
   "cell_type": "markdown",
   "metadata": {},
   "source": [
    "### Linear Fit"
   ]
  },
  {
   "cell_type": "markdown",
   "metadata": {},
   "source": [
    "Use `polyfit` to compute the best-fit linear (i.e. degree 1) model. Print the model parameters."
   ]
  },
  {
   "cell_type": "code",
   "execution_count": null,
   "metadata": {},
   "outputs": [],
   "source": []
  },
  {
   "cell_type": "markdown",
   "metadata": {},
   "source": [
    "Use `polyval` to find the model CO$_2$ concentration ($y$ values) for the dates ($x$ values)."
   ]
  },
  {
   "cell_type": "code",
   "execution_count": null,
   "metadata": {},
   "outputs": [],
   "source": []
  },
  {
   "cell_type": "markdown",
   "metadata": {},
   "source": [
    "Plot the data and the best-fit line."
   ]
  },
  {
   "cell_type": "code",
   "execution_count": null,
   "metadata": {},
   "outputs": [],
   "source": []
  },
  {
   "cell_type": "markdown",
   "metadata": {},
   "source": [
    "Compute and print the $R^2$ value."
   ]
  },
  {
   "cell_type": "code",
   "execution_count": null,
   "metadata": {},
   "outputs": [],
   "source": []
  },
  {
   "cell_type": "markdown",
   "metadata": {},
   "source": [
    "Use `np.sqrt` and `np.mean` to compute (and print) the root mean squared error, $RMSE = \\sqrt{\\frac{1}{n}\\Sigma(Ydata - Ymodel)^{2}}$, misfit between the CO$_2$ data and the model."
   ]
  },
  {
   "cell_type": "code",
   "execution_count": null,
   "metadata": {},
   "outputs": [],
   "source": []
  },
  {
   "cell_type": "markdown",
   "metadata": {},
   "source": [
    "### Degree-2 Polynomial Fit"
   ]
  },
  {
   "cell_type": "markdown",
   "metadata": {},
   "source": [
    "Use `polyfit` to fit a degree 2 (quadratic) model. The model is $y = ax^2 + bx + c$ and polyfit will return the coefficients $a$, $b$, and $c$. Print these model parameters."
   ]
  },
  {
   "cell_type": "code",
   "execution_count": null,
   "metadata": {},
   "outputs": [],
   "source": []
  },
  {
   "cell_type": "markdown",
   "metadata": {},
   "source": [
    "Use `polyval` to find the model CO$_2$ concentration ($y$ values) for the dates ($x$ values)."
   ]
  },
  {
   "cell_type": "code",
   "execution_count": null,
   "metadata": {},
   "outputs": [],
   "source": []
  },
  {
   "cell_type": "markdown",
   "metadata": {},
   "source": [
    "Plot the data and the quadratic model best-fit line."
   ]
  },
  {
   "cell_type": "code",
   "execution_count": null,
   "metadata": {},
   "outputs": [],
   "source": []
  },
  {
   "cell_type": "markdown",
   "metadata": {},
   "source": [
    "Compute and print the root mean squared error."
   ]
  },
  {
   "cell_type": "code",
   "execution_count": null,
   "metadata": {},
   "outputs": [],
   "source": []
  },
  {
   "cell_type": "markdown",
   "metadata": {},
   "source": [
    "Is the quadratic (degree 2) curve fit better or worse than the linear (degree 1) model? What does that tell you about the rate of increase in atmospheric CO$_2$ concentation with time?"
   ]
  },
  {
   "cell_type": "markdown",
   "metadata": {},
   "source": [
    "_Write your answer here._"
   ]
  },
  {
   "cell_type": "code",
   "execution_count": null,
   "metadata": {},
   "outputs": [],
   "source": []
  }
 ],
 "metadata": {
  "kernelspec": {
   "display_name": "Python 3",
   "language": "python",
   "name": "python3"
  },
  "language_info": {
   "codemirror_mode": {
    "name": "ipython",
    "version": 3
   },
   "file_extension": ".py",
   "mimetype": "text/x-python",
   "name": "python",
   "nbconvert_exporter": "python",
   "pygments_lexer": "ipython3",
   "version": "3.6.6"
  }
 },
 "nbformat": 4,
 "nbformat_minor": 2
}
