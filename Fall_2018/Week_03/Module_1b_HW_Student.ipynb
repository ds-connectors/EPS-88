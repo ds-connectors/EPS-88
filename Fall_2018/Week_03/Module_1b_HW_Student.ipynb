{
 "cells": [
  {
   "cell_type": "markdown",
   "metadata": {},
   "source": [
    "# Module 1, Week 2\n",
    "\n",
    "Load .csv data and visualize it!\n",
    "\n",
    "\n"
   ]
  },
  {
   "cell_type": "markdown",
   "metadata": {},
   "source": [
    "# Homework 2, Earthquakes"
   ]
  },
  {
   "cell_type": "markdown",
   "metadata": {},
   "source": [
    "### Setup\n",
    "\n",
    "Run this cell as it is to setup your environment."
   ]
  },
  {
   "cell_type": "code",
   "execution_count": null,
   "metadata": {},
   "outputs": [],
   "source": [
    "import  numpy  as  np\n",
    "import  matplotlib.pyplot  as plt\n",
    "import pandas as pd\n",
    "from cartopy import config\n",
    "import cartopy.crs as ccrs"
   ]
  },
  {
   "cell_type": "markdown",
   "metadata": {},
   "source": [
    "## Load the Earthquake Catalog"
   ]
  },
  {
   "cell_type": "markdown",
   "metadata": {},
   "source": [
    "Load the .csv (Comma Separated Variable) data file of all the earthquakes of magnitude 2.5 and higher from the past month. Source: https://earthquake.usgs.gov/earthquakes/search/"
   ]
  },
  {
   "cell_type": "code",
   "execution_count": null,
   "metadata": {},
   "outputs": [],
   "source": [
    "EQ_data = pd.read_csv('earthquakes_last_month.csv')\n",
    "EQ_data.head()"
   ]
  },
  {
   "cell_type": "markdown",
   "metadata": {},
   "source": [
    "Name the variables we'll be using further"
   ]
  },
  {
   "cell_type": "code",
   "execution_count": null,
   "metadata": {},
   "outputs": [],
   "source": [
    "EQ_date=EQ_data.time;\n",
    "EQ_lat=EQ_data.latitude;\n",
    "EQ_lon=EQ_data.longitude;\n",
    "EQ_depth=EQ_data.depth;\n",
    "EQ_mag=EQ_data.mag;"
   ]
  },
  {
   "cell_type": "markdown",
   "metadata": {},
   "source": [
    "## Plot histograms of Earthquake Magnitude and Depth"
   ]
  },
  {
   "cell_type": "markdown",
   "metadata": {},
   "source": [
    "Write the code to plot histograms of the earthquake magnitude and depth. Don't forget labels and titles."
   ]
  },
  {
   "cell_type": "code",
   "execution_count": null,
   "metadata": {},
   "outputs": [],
   "source": [
    "# put your code here\n",
    "\n"
   ]
  },
  {
   "cell_type": "code",
   "execution_count": null,
   "metadata": {},
   "outputs": [],
   "source": [
    "# put your code here\n",
    "\n"
   ]
  },
  {
   "cell_type": "markdown",
   "metadata": {},
   "source": [
    "How do they compare with the histograms we made in class of the earthquakes from 2000 - 2012?"
   ]
  },
  {
   "cell_type": "markdown",
   "metadata": {},
   "source": [
    "_Write your answer here._"
   ]
  },
  {
   "cell_type": "markdown",
   "metadata": {},
   "source": [
    "## Maps of Earthquake Occurance"
   ]
  },
  {
   "cell_type": "markdown",
   "metadata": {},
   "source": [
    "Now let's plot the epicenters of the earthquakes on a Robinson projection."
   ]
  },
  {
   "cell_type": "code",
   "execution_count": null,
   "metadata": {},
   "outputs": [],
   "source": [
    "# put your code here\n"
   ]
  },
  {
   "cell_type": "markdown",
   "metadata": {},
   "source": [
    "## Largest Earthquake in Catalog"
   ]
  },
  {
   "cell_type": "markdown",
   "metadata": {},
   "source": [
    "What is the largest magnitude earthquake in our catalog?"
   ]
  },
  {
   "cell_type": "code",
   "execution_count": null,
   "metadata": {},
   "outputs": [],
   "source": [
    "large_eq = np.xxx(...)\n",
    "print(large_eq)"
   ]
  },
  {
   "cell_type": "markdown",
   "metadata": {},
   "source": [
    "When did that earthquake happen?"
   ]
  },
  {
   "cell_type": "code",
   "execution_count": null,
   "metadata": {},
   "outputs": [],
   "source": [
    "lrg_eq_date = EQ_date[...]\n",
    "print(lrg_eq_date)"
   ]
  },
  {
   "cell_type": "markdown",
   "metadata": {},
   "source": [
    "Where? Map the location of the largest earthquake that occured in the past month on a world map. Center your map at a longitude of 180 degrees."
   ]
  },
  {
   "cell_type": "code",
   "execution_count": null,
   "metadata": {},
   "outputs": [],
   "source": [
    "lrg_eq_lon = xxx[EQ_mag == large_eq]\n",
    "lrg_eq_lat = xxx[EQ_mag == large_eq]\n",
    "\n",
    "\n",
    "plt.figure(1,(15,15)) # make a big figure \n",
    "ax = plt.axes(projection=ccrs.xxx(...))\n",
    "ax.set_global()\n",
    "\n",
    "plt.scatter(lrg_eq_lon,lrg_eq_lat,s=100,marker='o',color='red', edgecolor='black',transform=ccrs.PlateCarree())\n",
    "\n",
    "    \n",
    "ax.coastlines()\n",
    "ax.stock_img()\n",
    "ax.gridlines()\n",
    "\n",
    "plt.show()"
   ]
  },
  {
   "cell_type": "markdown",
   "metadata": {},
   "source": [
    "## Load a Seismogram of this Earthquake"
   ]
  },
  {
   "cell_type": "markdown",
   "metadata": {},
   "source": [
    "Load the .csv (Comma Separated Variable) data file of the seismogram of the largest earthquake that occured in the past month, recorded at the Columbia College, Columbia, CA, USA seismic station. Samples were taken every 0.025 seconds (40 Hz) and the record starts 60 seconds before the P wave arrival. http://ds.iris.edu/wilber3/find_stations/10937540"
   ]
  },
  {
   "cell_type": "code",
   "execution_count": null,
   "metadata": {},
   "outputs": [],
   "source": [
    "seismogram = pd.read_csv('BK.CMB.00.BHZ.Q.2018-08-19T002937.019539.csv',header=9,names=['Time','Sample'])\n",
    "seismogram.head()"
   ]
  },
  {
   "cell_type": "code",
   "execution_count": null,
   "metadata": {},
   "outputs": [],
   "source": [
    "# Station Location Columbia College, Columbia, CA, USA\n",
    "station_lat = 38.03455\n",
    "station_lon = -120.38651"
   ]
  },
  {
   "cell_type": "markdown",
   "metadata": {},
   "source": [
    "The `Sample` column is a time series of the velocity of the ground motion at the location of the seismic station due to this earthquake. Let's set it as a variable named velocity."
   ]
  },
  {
   "cell_type": "code",
   "execution_count": null,
   "metadata": {},
   "outputs": [],
   "source": [
    "velocity = seismogram.Sample"
   ]
  },
  {
   "cell_type": "markdown",
   "metadata": {},
   "source": [
    "Rather than parsing out time from the first column of our data, let's just use what we know about it to construct a timeline. Samples were taken every 0.025 seconds, the record starts 60 seconds before the P wave arrival, and we have 50399 samples."
   ]
  },
  {
   "cell_type": "code",
   "execution_count": null,
   "metadata": {},
   "outputs": [],
   "source": [
    "time_sec = (np.linspace(0,50398,50399)*0.025)-60\n",
    "time_minutes = time_sec/60"
   ]
  },
  {
   "cell_type": "markdown",
   "metadata": {},
   "source": [
    "Plot the seismogram (`time_minutes` on the x-axis and `velocity` on the y-axis), add labels and use `annotate` to label the P and S waves' arrivals. "
   ]
  },
  {
   "cell_type": "code",
   "execution_count": null,
   "metadata": {},
   "outputs": [],
   "source": [
    "fig = plt.figure(1,(20,5))\n",
    "ax = fig.add_subplot(111)\n",
    "\n",
    "plt.plot(...,...)\n",
    "plt.xlabel('...', fontsize=14)\n",
    "plt.ylabel('...', fontsize=14)\n",
    "plt.title('Seismogram of largest earthquake', fontsize=14)\n",
    "\n",
    "ax.annotate('P wave', xy=(0.0, 250000.0), xytext=(0.0, 600000.0),\n",
    "            arrowprops=dict(facecolor='black'=), fontsize=14,\n",
    "            )\n",
    "ax.annotate('S wave', xy=(9, 250000.0), xytext=(9, 600000.0),\n",
    "            arrowprops=dict(facecolor='black'=), fontsize=14,\n",
    "            )\n",
    "plt.show()"
   ]
  },
  {
   "cell_type": "markdown",
   "metadata": {},
   "source": [
    "The S wave arrives ~9 minutes after the P wave. This can be used to determine the distance from the recording station to the earthquake using a travel time curve.\n",
    "\n",
    "<img src=\"Figures/iris_travel_time_curve.png\" width=600>\n",
    "> Source: https://www.iris.edu/hq/files/programs/education_and_outreach/aotm/12/Traveltime_background.pdf"
   ]
  },
  {
   "cell_type": "markdown",
   "metadata": {},
   "source": [
    "Use the travel time curve to estimate the distance to the earthquake epicenter."
   ]
  },
  {
   "cell_type": "markdown",
   "metadata": {},
   "source": [
    "_Write your answer here._"
   ]
  },
  {
   "cell_type": "markdown",
   "metadata": {},
   "source": [
    "How long after the earthquake would you expect the surface waves to arrive?"
   ]
  },
  {
   "cell_type": "markdown",
   "metadata": {},
   "source": [
    "_Write your answer here._"
   ]
  },
  {
   "cell_type": "markdown",
   "metadata": {},
   "source": [
    "Let's plot a great circle path between the earthquake and the seismic station in Columbia, CA."
   ]
  },
  {
   "cell_type": "code",
   "execution_count": null,
   "metadata": {},
   "outputs": [],
   "source": [
    "plt.figure(1,(10,10))\n",
    "ax = plt.axes(projection=ccrs.Orthographic(central_longitude=200.0, central_latitude=0.0))\n",
    "ax.set_global()\n",
    "\n",
    "# plot red circles on the earthquake and station locations\n",
    "plt.scatter([lrg_eq_lon, station_lon],[lrg_eq_lat, station_lat],marker='o',color='red', transform=ccrs.PlateCarree())\n",
    "\n",
    "# plot the great circle path as a black line\n",
    "plt.plot([..., ...],[..., ...],\n",
    "         color='black', linewidth=2,\n",
    "         transform=ccrs.Geodetic(),\n",
    "         )\n",
    "\n",
    "\n",
    "ax.coastlines()\n",
    "ax.stock_img()\n",
    "ax.gridlines()\n",
    "\n",
    "plt.show()"
   ]
  },
  {
   "cell_type": "markdown",
   "metadata": {},
   "source": [
    "This great cirle path is the path the surface waves travel, and the body waves travel through the earth below this path, to reach the seismic station.\n",
    "\n",
    "<img src=\"Figures/seis_wave_annotated.png\" >\n",
    "> Source: modified from Essentials of Geology (13th Edition) Lutgens, F. K., Tarbuck, E. J., Tasa, D. G."
   ]
  },
  {
   "cell_type": "markdown",
   "metadata": {},
   "source": [
    "We can compute this length of that line with the equation $d = r \\theta $ where $d$ is the distance between the two points, $r$ is the radius (radius of Earth is 3959 miles), and $\\theta$ is the angular separation between the points in radians ($\\theta_{deg}$ = 78 degrees)."
   ]
  },
  {
   "cell_type": "code",
   "execution_count": null,
   "metadata": {},
   "outputs": [],
   "source": [
    "radius = ...; # earth's radius in miles\n",
    "ang_deg = ...; # angular separation between EQ and station is degrees\n",
    "ang_rad = ang_deg * np.pi/180; # convert degrees to radians\n",
    "dist = ... * ...; # distance in miles\n",
    "print(dist)"
   ]
  },
  {
   "cell_type": "markdown",
   "metadata": {},
   "source": [
    "How does this compare with your estimate from the travel time curve?"
   ]
  },
  {
   "cell_type": "markdown",
   "metadata": {},
   "source": [
    "_Write your answer here._"
   ]
  }
 ],
 "metadata": {
  "kernelspec": {
   "display_name": "Python 3",
   "language": "python",
   "name": "python3"
  },
  "language_info": {
   "codemirror_mode": {
    "name": "ipython",
    "version": 3
   },
   "file_extension": ".py",
   "mimetype": "text/x-python",
   "name": "python",
   "nbconvert_exporter": "python",
   "pygments_lexer": "ipython3",
   "version": "3.6.5"
  }
 },
 "nbformat": 4,
 "nbformat_minor": 2
}
