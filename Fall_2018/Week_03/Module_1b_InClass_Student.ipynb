{
 "cells": [
  {
   "cell_type": "markdown",
   "metadata": {},
   "source": [
    "# Module 1, Week 2\n",
    "\n",
    "Load .csv data and visualize it!\n",
    "\n",
    "**Review from Data 8 textbook Chapters 3-5 and 7.**\n",
    "\n",
    "**Before class reading: \"Earthquakes and Seismology\" and \"Ten Simple Rules for Better Figures.\" **\n",
    "\n",
    "**Last week we:**\n",
    "- Plot histograms, cumulative distributions, and global maps.\n",
    "- Load and visualize global topography.\n",
    "- Learn about the topography of Earth (hypsometric curve).\n",
    "- Load and visualize global seafloor age.\n",
    "\n",
    "**Our goals for today:**\n",
    "- Load and visualize an earthquake catalog.\n",
    "- Plot histograms of earthquake magnitude and depth.\n",
    "- Learn some more complicated mapping techinque. \n",
    "\n"
   ]
  },
  {
   "cell_type": "markdown",
   "metadata": {},
   "source": [
    "# Exercise 2, Earthquakes"
   ]
  },
  {
   "cell_type": "markdown",
   "metadata": {},
   "source": [
    "### Setup\n",
    "\n",
    "Run this cell as it is to setup your environment."
   ]
  },
  {
   "cell_type": "code",
   "execution_count": null,
   "metadata": {},
   "outputs": [],
   "source": [
    "import  numpy  as  np\n",
    "import  matplotlib.pyplot  as plt\n",
    "import pandas as pd\n",
    "from cartopy import config\n",
    "import cartopy.crs as ccrs"
   ]
  },
  {
   "cell_type": "markdown",
   "metadata": {},
   "source": [
    "## Load the Earthquake Catalog"
   ]
  },
  {
   "cell_type": "markdown",
   "metadata": {},
   "source": [
    "Load the .csv (Comma Separated Variable) data file of all the earthquakes of magnitude 4 and higher from 2000 - 2012 in the ANSS (Advanced National Seismic System) Comprehensive Catalog or \"ComCat.\""
   ]
  },
  {
   "cell_type": "code",
   "execution_count": null,
   "metadata": {},
   "outputs": [],
   "source": [
    "# OVERVIEW:\n",
    "# The ANSS Comprehensive Catalog (ComCat) http://www.quake.geo.berkeley.edu/anss/catalog-search.html\n",
    "\n",
    "# DateTime,Latitude,Longitude,Depth,Magnitude,MagType,NbStations,Gap,Distance,RMS,Source,EventID\n",
    "\n",
    "EQ_data = pd.read_csv('ANSS_2000_2012.csv',header=8,names = ['DateTime','Latitude','Longitude','Depth','Magnitude','MagType','NbStations','Gap','Distance','RMS','Source','EventID'])\n",
    "EQ_data.head()"
   ]
  },
  {
   "cell_type": "markdown",
   "metadata": {},
   "source": [
    "Name the variables we'll be using further"
   ]
  },
  {
   "cell_type": "code",
   "execution_count": null,
   "metadata": {},
   "outputs": [],
   "source": [
    "EQ_date=EQ_data.DateTime;\n",
    "EQ_lat=EQ_data.Latitude;\n",
    "EQ_lon=EQ_data.Longitude;\n",
    "EQ_depth=EQ_data.Depth;\n",
    "EQ_mag=EQ_data.Magnitude;"
   ]
  },
  {
   "cell_type": "markdown",
   "metadata": {},
   "source": [
    "## Largest Earthquake in Catalog"
   ]
  },
  {
   "cell_type": "markdown",
   "metadata": {},
   "source": [
    "What is the largest magnitude earthquake in our catalog?"
   ]
  },
  {
   "cell_type": "code",
   "execution_count": null,
   "metadata": {},
   "outputs": [],
   "source": [
    "large_eq = np.xxx(...)\n",
    "print(large_eq)"
   ]
  },
  {
   "cell_type": "markdown",
   "metadata": {},
   "source": [
    "When did that earthquake happen?"
   ]
  },
  {
   "cell_type": "code",
   "execution_count": null,
   "metadata": {},
   "outputs": [],
   "source": [
    "lrg_eq_date = EQ_date[...]\n",
    "print(lrg_eq_date)"
   ]
  },
  {
   "cell_type": "markdown",
   "metadata": {},
   "source": [
    "Do you know what earthquake this is?\n",
    "\n",
    "Where did it happen?"
   ]
  },
  {
   "cell_type": "markdown",
   "metadata": {},
   "source": [
    "_Write your answer here._"
   ]
  },
  {
   "cell_type": "code",
   "execution_count": null,
   "metadata": {},
   "outputs": [],
   "source": [
    "lrg_eq_lon = EQ_lon[EQ_mag == large_eq]\n",
    "lrg_eq_lat = EQ_lat[EQ_mag == large_eq]\n",
    "\n",
    "\n",
    "plt.figure(1,(15,15)) # make a big figure \n",
    "ax = plt.axes(projection=ccrs.Robinson())\n",
    "ax.set_global()\n",
    "\n",
    "# plot a red circle at the location of the largest earthquake in our catalog\n",
    "# changing s will adjust the size of the marker\n",
    "plt.scatter(...,...,s=100,marker='o',color='red',transform=ccrs.PlateCarree())\n",
    "\n",
    "plt.title('2011 Tōhoku earthquake')    \n",
    "ax.coastlines()\n",
    "ax.stock_img()\n",
    "ax.gridlines()\n",
    "\n",
    "plt.show()"
   ]
  },
  {
   "cell_type": "markdown",
   "metadata": {},
   "source": [
    "What were some impacts of this earthquake?"
   ]
  },
  {
   "cell_type": "markdown",
   "metadata": {},
   "source": [
    "_Write your answer here._"
   ]
  },
  {
   "cell_type": "markdown",
   "metadata": {},
   "source": [
    "## Plot histogram of Earthquake Magnitude"
   ]
  },
  {
   "cell_type": "markdown",
   "metadata": {},
   "source": [
    "The most obvious thing we'd like to know is \"How often do large earthquakes occur? How worried should I be?\" To start addressing these questions let's plot a histogram of earthquake magnitudes."
   ]
  },
  {
   "cell_type": "code",
   "execution_count": null,
   "metadata": {},
   "outputs": [],
   "source": [
    "plt.hist(EQ_mag,bins=[...],density=False)\n",
    "plt.xlabel('EQ Magnitude')\n",
    "plt.ylabel('Count')\n",
    "plt.title('Histogram of Earthquake Magnitude');"
   ]
  },
  {
   "cell_type": "markdown",
   "metadata": {},
   "source": [
    "What magnitude of earthquake occures the most?"
   ]
  },
  {
   "cell_type": "code",
   "execution_count": null,
   "metadata": {},
   "outputs": [],
   "source": [
    "n = plt.hist(EQ_mag,bins=[...],density=False)\n",
    "print(n)"
   ]
  },
  {
   "cell_type": "markdown",
   "metadata": {},
   "source": [
    "_Write your answer here._"
   ]
  },
  {
   "cell_type": "markdown",
   "metadata": {},
   "source": [
    "There are so many magnitude 4 earthquakes that the 7s, 8s, and 9s don't even show up on the figure. How can we make a more useful plot?  https://matplotlib.org/api/_as_gen/matplotlib.pyplot.hist.html"
   ]
  },
  {
   "cell_type": "code",
   "execution_count": null,
   "metadata": {},
   "outputs": [],
   "source": [
    "plt.hist(EQ_mag,xxx=...,bins=[4,5,6,7,8,9,10],density=False)\n",
    "plt.xlabel('EQ Magnitude')\n",
    "plt.ylabel('Count')\n",
    "plt.title('Histogram of Earthquake Magnitude');"
   ]
  },
  {
   "cell_type": "markdown",
   "metadata": {},
   "source": [
    "## Plot histogram of Earthquake Depths"
   ]
  },
  {
   "cell_type": "markdown",
   "metadata": {},
   "source": [
    "Let's see the range and frequency of depths where earthquakes occur."
   ]
  },
  {
   "cell_type": "code",
   "execution_count": null,
   "metadata": {},
   "outputs": [],
   "source": [
    "plt.hist(...,bins=30,density=False)\n",
    "plt.xlabel('EQ Depth')\n",
    "plt.ylabel('Count')\n",
    "plt.title('Histogram of Earthquake Depth');"
   ]
  },
  {
   "cell_type": "markdown",
   "metadata": {},
   "source": [
    "At what depth are the majority of earthquakes? How deep do they extend? How does that compare to the typical depth of the lithosphere (~100 km)?"
   ]
  },
  {
   "cell_type": "markdown",
   "metadata": {},
   "source": [
    "_Write your answer here._"
   ]
  },
  {
   "cell_type": "markdown",
   "metadata": {},
   "source": [
    "## Map of Earthquake Epicenters"
   ]
  },
  {
   "cell_type": "markdown",
   "metadata": {},
   "source": [
    "Now let's plot the epicenters of the earthquakes on a Robinson projection."
   ]
  },
  {
   "cell_type": "code",
   "execution_count": null,
   "metadata": {},
   "outputs": [],
   "source": [
    "plt.figure(1,(15,15)) # make a big figure \n",
    "ax = plt.axes(projection=ccrs.Robinson())\n",
    "ax.set_global()\n",
    "\n",
    "plt.xxx(...)\n",
    "\n",
    "plt.title('Earthquake Epicenters 2000-2012')\n",
    "ax.coastlines()\n",
    "ax.stock_img()\n",
    "ax.gridlines()\n",
    "\n",
    "plt.show()"
   ]
  },
  {
   "cell_type": "markdown",
   "metadata": {},
   "source": [
    "Where do the majority of earthquakes occur?"
   ]
  },
  {
   "cell_type": "markdown",
   "metadata": {},
   "source": [
    "_Write your answer here._ "
   ]
  },
  {
   "cell_type": "markdown",
   "metadata": {},
   "source": [
    "## Maps of Earthquake Depth and Magnitude"
   ]
  },
  {
   "cell_type": "markdown",
   "metadata": {},
   "source": [
    "The map we made above is nice, but it doesn't tell us everything about our data (i.e. the depth and magnitude of the earthquakes). Next let's make some bins to group the data.  Then we can color code the earthquakes by depth/magnitude when we map them."
   ]
  },
  {
   "cell_type": "code",
   "execution_count": null,
   "metadata": {},
   "outputs": [],
   "source": [
    "# set bin ranges for depth\n",
    "depth_bins=[33,70,150,300,500,700] # a list of depth bins\n",
    "depth_colors=['blue','lightblue','green','yellow','orange','red']"
   ]
  },
  {
   "cell_type": "code",
   "execution_count": null,
   "metadata": {},
   "outputs": [],
   "source": [
    "plt.figure(1,(15,15)) # make a big figure \n",
    "ax = plt.axes(projection=ccrs.Robinson())\n",
    "ax.set_global()\n",
    "\n",
    "# now we put on the earthquakes\n",
    "last_bin=... # this is the lower bound of the first bin for depths\n",
    "\n",
    "for d in depth_bins: # step through the depths list\n",
    "    # use Pandas filtering to fish out depths in this range\n",
    "    depth=EQ_data[(EQ_depth<d)&(EQ_depth>=last_bin)]\n",
    "    # pull the map coordinates for those earthquakes\n",
    "    x = depth.Longitude.values\n",
    "    y = depth.Latitude.values\n",
    "    \n",
    "    \n",
    "    mylabel= \" %s - %s km\"%(last_bin,d) #label them for the legend\n",
    "    \n",
    "    # put this batch of earthquakes on the map\n",
    "    plt.scatter(x,y,marker='o',color=depth_colors[depth_bins.index(d)],transform=ccrs.PlateCarree(),label=mylabel)\n",
    "    \n",
    "    last_bin=... # increment the lower bound for the bin\n",
    "\n",
    "    \n",
    "plt.title('Earthquake Depths 2000-2012')\n",
    "ax.coastlines()\n",
    "ax.stock_img()\n",
    "ax.gridlines()\n",
    "\n",
    "ax.legend(loc='lower left', fontsize='large')\n",
    "\n",
    "plt.show()"
   ]
  },
  {
   "cell_type": "markdown",
   "metadata": {},
   "source": [
    "What depth of earthquakes occur at ocean ridges?"
   ]
  },
  {
   "cell_type": "markdown",
   "metadata": {},
   "source": [
    "_Write your answer here._ "
   ]
  },
  {
   "cell_type": "markdown",
   "metadata": {},
   "source": [
    "The earthquakes at trenches (like around the Pacific ocean's 'ring of fire') get deeper in a systematic way. The deepest earthquakes are the farthest from the trench. This reveals the location of the downgoing slabs."
   ]
  },
  {
   "cell_type": "markdown",
   "metadata": {},
   "source": [
    "<img src=\"Figures/slab_eq.png\">\n",
    "> Source: Fundamentals of Geophysics (2nd Edition) Lowrie, W."
   ]
  },
  {
   "cell_type": "markdown",
   "metadata": {},
   "source": [
    "What direction is subduction occuring below South America? Japan?"
   ]
  },
  {
   "cell_type": "markdown",
   "metadata": {},
   "source": [
    "_Write your answer here._"
   ]
  },
  {
   "cell_type": "markdown",
   "metadata": {},
   "source": [
    "Now let's map magnitude."
   ]
  },
  {
   "cell_type": "code",
   "execution_count": null,
   "metadata": {},
   "outputs": [],
   "source": [
    "# set bin ranges for magnitude\n",
    "mag_bins=[5,6,7,8,9,9.2] # a list of depth bins\n",
    "mag_colors=['blue','lightblue','green','yellow','orange','red']"
   ]
  },
  {
   "cell_type": "code",
   "execution_count": null,
   "metadata": {},
   "outputs": [],
   "source": [
    "plt.figure(1,(15,15)) # make a big figure \n",
    "ax = plt.axes(projection=ccrs.Robinson())\n",
    "ax.set_global()\n",
    "\n",
    "# now we put on the earthquakes\n",
    "last_bin=... # this is the lower bound of the first bin of magnitudes\n",
    "\n",
    "for M in mag_bins: # step through the magnitudes list\n",
    "    # use Pandas filtering to fish out magnitudes in this range\n",
    "    mag=EQ_data[(EQ_mag<M)&(EQ_mag>=last_bin)]\n",
    "    # pull the map coordinates for those earthquakes\n",
    "    x = mag.Longitude.values\n",
    "    y = mag.Latitude.values\n",
    "    \n",
    "    \n",
    "    mylabel= \"M = %s - %s\"%(last_bin,M) # lable them for the legend\n",
    "    # put this batch of earthquakes on the map\n",
    "    plt.scatter(x,y,marker='o',color=mag_colors[mag_bins.index(M)],edgecolor='black',transform=ccrs.PlateCarree(),label=mylabel)\n",
    "    \n",
    "    last_bin=M # increment the lower bound for the bin\n",
    "\n",
    "    \n",
    "plt.title('Earthquake Magnitudes 2000-2012')\n",
    "ax.coastlines()\n",
    "ax.stock_img()\n",
    "ax.gridlines()\n",
    "\n",
    "ax.legend(loc='lower left', fontsize='large')\n",
    "\n",
    "plt.show()"
   ]
  },
  {
   "cell_type": "markdown",
   "metadata": {},
   "source": [
    "Does this map communicate what we want? The relative frequency of each magnitude? The bias in location of large earthquakes? The nature of the magnitude scale (1 unit magnitude is 10x in motion)?"
   ]
  },
  {
   "cell_type": "markdown",
   "metadata": {},
   "source": [
    "Let's scale the size of the markers by the magnitude, so bigger quakes are bigger circles."
   ]
  },
  {
   "cell_type": "code",
   "execution_count": null,
   "metadata": {},
   "outputs": [],
   "source": [
    "plt.figure(1,(15,15)) # make a big figure \n",
    "ax = plt.axes(projection=ccrs.Robinson())\n",
    "ax.set_global()\n",
    "\n",
    "# now we put on the earthquakes\n",
    "last_bin=4 # this is the lower bound of the first bin of magnitudes\n",
    "\n",
    "for M in mag_bins: # step through the magnitudes list\n",
    "    # use Pandas filtering to fish out magnitudes in this range\n",
    "    mag=EQ_data[(EQ_mag<M)&(EQ_mag>=last_bin)]\n",
    "    # pull the map coordinates for those earthquakes\n",
    "    x = mag.Longitude.values\n",
    "    y = mag.Latitude.values\n",
    "    \n",
    "    \n",
    "    mylabel = \"M = %s - %s\"%(last_bin,M) # lable them for the legend\n",
    "    \n",
    "    \n",
    "    # changing s will adjust the size of the marker\n",
    "    mysize = ... # set s to increase with magnitude\n",
    "    \n",
    "    # put this batch of earthquakes on the map\n",
    "    plt.scatter(x,y,s=mysize,marker='o',color=mag_colors[mag_bins.index(M)],edgecolor='black',transform=ccrs.PlateCarree(),label=mylabel)\n",
    "    \n",
    "    last_bin=M # increment the lower bound for the bin\n",
    "\n",
    "plt.title('Earthquake Magnitudes 2000-2012')    \n",
    "ax.coastlines()\n",
    "ax.stock_img()\n",
    "ax.gridlines()\n",
    "\n",
    "ax.legend(loc='lower left', fontsize='large')\n",
    "\n",
    "plt.show()"
   ]
  },
  {
   "cell_type": "markdown",
   "metadata": {},
   "source": [
    "Where do the largest earthquakes occur? What type of plate boundary?"
   ]
  },
  {
   "cell_type": "markdown",
   "metadata": {},
   "source": [
    "_Write your answer here._"
   ]
  },
  {
   "cell_type": "markdown",
   "metadata": {},
   "source": [
    "### Bonus"
   ]
  },
  {
   "cell_type": "markdown",
   "metadata": {},
   "source": [
    "What was the largest earthquake on your birthday? http://www.earthscope.org/birthquake/"
   ]
  },
  {
   "cell_type": "markdown",
   "metadata": {},
   "source": [
    "_Write your answer here._"
   ]
  },
  {
   "cell_type": "markdown",
   "metadata": {},
   "source": [
    "__Save you notebook as a pdf by going to File --> Download as --> PDF via LaTex (.pdf).__\n",
    "\n",
    "__Add you last name to the filename. Upload your pdf to the bCourses assignment page.__"
   ]
  }
 ],
 "metadata": {
  "kernelspec": {
   "display_name": "Python 3",
   "language": "python",
   "name": "python3"
  },
  "language_info": {
   "codemirror_mode": {
    "name": "ipython",
    "version": 3
   },
   "file_extension": ".py",
   "mimetype": "text/x-python",
   "name": "python",
   "nbconvert_exporter": "python",
   "pygments_lexer": "ipython3",
   "version": "3.6.5"
  }
 },
 "nbformat": 4,
 "nbformat_minor": 2
}
