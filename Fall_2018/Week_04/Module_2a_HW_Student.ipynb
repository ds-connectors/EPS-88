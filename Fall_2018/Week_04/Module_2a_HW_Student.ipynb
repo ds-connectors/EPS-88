{
 "cells": [
  {
   "cell_type": "markdown",
   "metadata": {},
   "source": [
    "## Module 2, Week 1\n",
    "\n",
    "Splitting and filtering data.\n",
    "\n",
    "**Our goals:**\n",
    "- Load marine geophysical data (bathymetry and marine magnetic anomalies) from the Chile Rise.\n",
    "- Select data and drop rows with gaps.\n",
    "- Plot bathymetry data and evaluate spreading rate.\n",
    "- Detrend magnetic field data.\n",
    "- Plot marine magnetic anomaly data and compare spreading rates."
   ]
  },
  {
   "cell_type": "markdown",
   "metadata": {},
   "source": [
    "# Homework 3, Seafloor geology\n",
    "\n",
    "Graded for correctness, due Friday 9/21/2018 at 9:59 am (before next class meeting)"
   ]
  },
  {
   "cell_type": "markdown",
   "metadata": {},
   "source": [
    "__Setup, run as is__"
   ]
  },
  {
   "cell_type": "code",
   "execution_count": null,
   "metadata": {},
   "outputs": [],
   "source": [
    "import  numpy  as  np\n",
    "import  matplotlib.pyplot as plt\n",
    "import pandas as pd\n",
    "from scipy import signal\n"
   ]
  },
  {
   "cell_type": "markdown",
   "metadata": {},
   "source": [
    "Load data from a marine geophysics survey of the Chile Rise. "
   ]
  },
  {
   "cell_type": "code",
   "execution_count": null,
   "metadata": {},
   "outputs": [],
   "source": [
    "# Load the seafloor depth, marine mag anom data\n",
    "# Source: https://maps.ngdc.noaa.gov/viewers/geophysics/\n",
    "#names=['SURVEY_ID','TIMEZONE','DATE','TIME','LAT','LON','POS_TYPE','NAV_QUALCO','BAT_TTIME','CORR_DEPTH','BAT_CPCO','BAT_TYPCO','BAT_QUALCO','MAG_TOT','MAG_TOT2','MAG_RES','MAG_RESSEN','MAG_DICORR','MAG_SDEPTH','MAG_QUALCO','GRA_OBS','EOTVOS','FREEAIR','GRA_QUALCO','LINEID','POINTID'])\n",
    "\n",
    "\n",
    "chile_data_file=pd.read_table('data_tracks/nbp97-4a.m77t')\n"
   ]
  },
  {
   "cell_type": "markdown",
   "metadata": {},
   "source": [
    "Use `np.isnan` to remove rows where there isn't depth AND magnetic field measurements."
   ]
  },
  {
   "cell_type": "code",
   "execution_count": null,
   "metadata": {},
   "outputs": [],
   "source": [
    "chile_data_clean = chile_data_file[...];\n"
   ]
  },
  {
   "cell_type": "markdown",
   "metadata": {},
   "source": [
    "Use Boolean indexing to select data from around the ridge, between longitudes -105.0 to -88.0 degrees."
   ]
  },
  {
   "cell_type": "code",
   "execution_count": null,
   "metadata": {},
   "outputs": [],
   "source": [
    "chile_data = chile_data_clean[...]"
   ]
  },
  {
   "cell_type": "markdown",
   "metadata": {},
   "source": [
    "Make line plots of the bathymetry and total magnetic field vs. longitude. Include x and y labels."
   ]
  },
  {
   "cell_type": "code",
   "execution_count": null,
   "metadata": {},
   "outputs": [],
   "source": []
  },
  {
   "cell_type": "code",
   "execution_count": null,
   "metadata": {},
   "outputs": [],
   "source": [
    "\n"
   ]
  },
  {
   "cell_type": "markdown",
   "metadata": {},
   "source": [
    "Load the data with latitude and longitude coordinates projected to distance from the ridge along the ship track azimuth."
   ]
  },
  {
   "cell_type": "code",
   "execution_count": null,
   "metadata": {},
   "outputs": [],
   "source": [
    "projected_chile_data=pd.read_csv('data_tracks/projected_nbp97-4a.csv',names=['DIST','DEPTH','MAG_TOT'])\n",
    "chile_dist=projected_chile_data.DIST;\n",
    "chile_depth=projected_chile_data.DEPTH;\n",
    "chile_total_mag=projected_chile_data.MAG_TOT;"
   ]
  },
  {
   "cell_type": "markdown",
   "metadata": {},
   "source": [
    "Create a figure with two subplots plotting the bathymetry and total magnetic field vs. distance from ridge. Include x and y labels, and a title."
   ]
  },
  {
   "cell_type": "code",
   "execution_count": null,
   "metadata": {},
   "outputs": [],
   "source": [
    "\n"
   ]
  },
  {
   "cell_type": "markdown",
   "metadata": {},
   "source": [
    "Use the `scipy` function `signal.detrend` to compute the crustal marine magnetic anomaly by detrending the total magnetic field measurements `chile_total_mag` to remove the background field."
   ]
  },
  {
   "cell_type": "code",
   "execution_count": null,
   "metadata": {},
   "outputs": [],
   "source": [
    "chile_mma = signal.detrend(chile_total_mag)"
   ]
  },
  {
   "cell_type": "markdown",
   "metadata": {},
   "source": [
    "Plot the marine magnetic anoamly data vs. distance from the ridge. Add a line at zero nT for reference."
   ]
  },
  {
   "cell_type": "code",
   "execution_count": null,
   "metadata": {},
   "outputs": [],
   "source": []
  },
  {
   "cell_type": "markdown",
   "metadata": {},
   "source": [
    "Load the .csv files we saved at the end of the in-class exercise. Columns are 'Distance','Depth', and 'Magnetic_Anomaly'."
   ]
  },
  {
   "cell_type": "code",
   "execution_count": null,
   "metadata": {},
   "outputs": [],
   "source": [
    "atlantic_data=pd.read_csv('Atlantic_dist_depth_mma.csv')\n",
    "atl_dist=atlantic_data.Distance;\n",
    "atl_depth=atlantic_data.Depth;\n",
    "atl_total_mag=atlantic_data.Magnetic_Anomaly;\n",
    "\n",
    "pacific_data=pd.read_csv('Pacific_dist_depth_mma.csv')\n",
    "pac_dist=pacific_data.Distance;\n",
    "pac_depth=pacific_data.Depth;\n",
    "pac_total_mag=pacific_data.Magnetic_Anomaly;"
   ]
  },
  {
   "cell_type": "markdown",
   "metadata": {},
   "source": [
    "Plot the bathymetry from all three ridges together as subplots.\n",
    "\n",
    "Your figure should look like this:\n",
    "<img src=\"Figures/HW_bath_fig.png\" width=900>"
   ]
  },
  {
   "cell_type": "code",
   "execution_count": null,
   "metadata": {},
   "outputs": [],
   "source": []
  },
  {
   "cell_type": "markdown",
   "metadata": {},
   "source": [
    "How does the bathymetry of the Chile Rise compare with that of the EPR and MAR? Does it have a rift valley at the center? Is the slope steep or gentle? Is the bathymetry rough or smooth?"
   ]
  },
  {
   "cell_type": "markdown",
   "metadata": {},
   "source": [
    "_Write your answer here._"
   ]
  },
  {
   "cell_type": "markdown",
   "metadata": {},
   "source": [
    "Plot the marine magnetic anomalies from all three ridges together as three subplots.\n",
    "\n",
    "Your figure should look like this:\n",
    "<img src=\"Figures/HW_mma_fig.png\" width=900>"
   ]
  },
  {
   "cell_type": "code",
   "execution_count": null,
   "metadata": {},
   "outputs": [],
   "source": []
  },
  {
   "cell_type": "markdown",
   "metadata": {},
   "source": [
    "What distance from the ridge does the Bruhnes-Matuyama reversal (which tells us an age of 780 kyr) occur at for both ridges?"
   ]
  },
  {
   "cell_type": "markdown",
   "metadata": {},
   "source": [
    "_Write your answer here._"
   ]
  },
  {
   "cell_type": "markdown",
   "metadata": {},
   "source": [
    "How does the spreading rate of the Chile Rise compare with that of the EPR and MAR?"
   ]
  },
  {
   "cell_type": "markdown",
   "metadata": {},
   "source": [
    "_Write your answer here._"
   ]
  },
  {
   "cell_type": "code",
   "execution_count": null,
   "metadata": {},
   "outputs": [],
   "source": []
  }
 ],
 "metadata": {
  "kernelspec": {
   "display_name": "Python 3",
   "language": "python",
   "name": "python3"
  },
  "language_info": {
   "codemirror_mode": {
    "name": "ipython",
    "version": 3
   },
   "file_extension": ".py",
   "mimetype": "text/x-python",
   "name": "python",
   "nbconvert_exporter": "python",
   "pygments_lexer": "ipython3",
   "version": "3.6.6"
  }
 },
 "nbformat": 4,
 "nbformat_minor": 2
}
