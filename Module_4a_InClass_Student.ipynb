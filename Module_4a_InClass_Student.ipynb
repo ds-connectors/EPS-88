{
 "cells": [
  {
   "cell_type": "markdown",
   "metadata": {},
   "source": [
    "# Module 4, Week 1 In Class Exercise\n",
    "\n",
    "Non-linear model fitting\n",
    "\n",
    "**Before class reading: Stein and Stein, 1992; Fundamentals of Geophysics Chapter 4.2 **\n",
    "\n",
    "**Last week we:**\n",
    "- Downloaded Anaconda to your local machine\n",
    "- Launched a fresh Jupyter Notebook\n",
    "- Launched Spyder\n",
    "- Wrote a program to fit the orbital period and distance of planets to prove Kepler's 3rd law\n",
    "\n",
    "**Our goals for today:**\n",
    "- Load marine bathymetry data and age of seafloor (found from marine magnetics) from several oceanic ridges\n",
    "- Use `interpolate.Rbf` to do a 2D interpolation of age data\n",
    "- Plot bathymetry data vs. age\n",
    "- Fit a bathymetry(age) model\n",
    "- Compare our with the model of Stein and Stein, 1992\n",
    "\n"
   ]
  },
  {
   "cell_type": "markdown",
   "metadata": {},
   "source": [
    "## Setup\n",
    "\n",
    "Run this cell as it is to setup your environment."
   ]
  },
  {
   "cell_type": "code",
   "execution_count": null,
   "metadata": {},
   "outputs": [],
   "source": [
    "import  numpy  as  np\n",
    "import  matplotlib.pyplot as plt\n",
    "from matplotlib import cm\n",
    "import pandas as pd\n",
    "from scipy import interpolate\n",
    "from cartopy import config\n",
    "import cartopy.crs as ccrs"
   ]
  },
  {
   "cell_type": "markdown",
   "metadata": {},
   "source": [
    "##  Part 1: Marine bathymetry and Age, Theory"
   ]
  },
  {
   "cell_type": "markdown",
   "metadata": {},
   "source": [
    "Earth is constantly losing heat from its interior. This internal heat has two main sources 1) the formation of Earth and 2) heat produced by the decay of radioactive isotopes. Heat can be transmitted 3 ways 1) conduction 2) convection and 3) radiation. In the system we'll look at today - the flow of heat out of the surface of the earth - the relavent transport mechanism is conduction. The transport of heat by conduction in a solid is governed by a simple equation. Consider a solid bar of length $L$ and cross-sectional area $A$ with its ends maintained at temperatures $T_{1}$ and $T_{2}$, respectively (Fig.4.15a). Assuming that heat flows only along the bar (i.e., there are no side losses) the net amount of heat ($\\Delta  Q$) that passes in a given time from the hot end to the cold end depends directly on the temperature difference ($T_{2}-T_{1}$), the area of cross-section ($A$) and the time of observation ($\\Delta  t$), and inversely on the length of the bar ($L$). These observations can be summarized in the equation\n",
    "\n",
    "$\\Delta Q =kA\\frac{T_{2}-T_{1}}{L}\\Delta t$\n",
    "\n",
    "<img src=\"Figures/simple_model.png\" width=400>\n",
    "\n",
    "> Source: Fundamentals of Geophysics (2nd Edition) Lowrie, W."
   ]
  },
  {
   "cell_type": "markdown",
   "metadata": {},
   "source": [
    "The constant of proportionality, $k$, is the thermal conductivity, which is a property of the material of the bar. If\n",
    "the length of the bar is very small or the temperature change across it is uniform, the ratio $(T_2-T_1)/L$ is the temperature gradient. We can modify the equation to describe the vertical flow of heat out of the Earth by substituting the vertical temperature gradient, ($\\frac{\\mathrm{d} T}{\\mathrm{d} z}$), which is also called the geothermal gradient. The aboave equation can then be rearranged as follows\n",
    "\n",
    "$q_{z} = \\frac{1}{A}\\frac{dQ}{dt}= k\\frac{dT}{dz}$\n",
    "\n",
    "In this equation $q_{z}$ is the heat flux, defined as the flow of heat per unit area per second. If temperature increases in the downward (negative) direction of the z-axis, the flow of heat from high to low temperature is upward (postive) (Fig.4.15b)."
   ]
  },
  {
   "cell_type": "markdown",
   "metadata": {},
   "source": [
    "<img src=\"Figures/1D_heat_flux_model.png\" width=400>\n",
    "\n",
    "> Source: Fundamentals of Geophysics (2nd Edition) Lowrie, W."
   ]
  },
  {
   "cell_type": "markdown",
   "metadata": {},
   "source": [
    "Consider the flow of heat in the positive direction of the z-axis through a small rectangular prism with sides $\\mathrm{d}x$, $\\mathrm{d}y$ and $\\mathrm{d}z$ (see Fig. 4.15b). We will assume that there are no sources of heat inside the box. Let the amount of heat entering the prism at ($z \\cdot \\mathrm{d}z$) be $Q_{z}$. This is equal to the heat flow $q_{z}$ multiplied by the area of the surface it flows across ($\\mathrm{d}x \\mathrm{d}y$) and by the duration of the flow ($\\mathrm{d}t$). The heat leaving the box at $z$ is $Q_{z}-\\mathrm{d}Q_{z}$, which can be written $Q_{z}-(\\mathrm{d}Q_{z} /\\mathrm{d}z)\\mathrm{d}z$. The increase in heat in the small box is the difference between these amounts:\n",
    "\n",
    "$\\frac{\\mathrm{d} Q_{z}}{\\mathrm{d} z}\\mathrm{d} z = \\frac{\\mathrm{d} q_{z}}{\\mathrm{d} z}\\mathrm{d} z(\\mathrm{d} x \\mathrm{d} y)\\mathrm{d} t=k\\frac{\\mathrm{d}^2 T}{\\mathrm{d} z^{2}}\\mathrm{d} V\\mathrm{d} t$\n",
    "\n",
    "where $\\mathrm{d} V$ is the volume of the box ($\\mathrm{d} x \\mathrm{d} y \\mathrm{d} z$). The heat increase in the\n",
    "box causes its temperature to rise by an amount ($\\mathrm{d} T$), determined by the specific heat at constant pressure ($c_{p}$) and the mass of material ($m$) in the box:\n",
    "\n",
    "$c_{p}m\\mathrm{d} T=c_{p}\\rho  \\mathrm{d} V \\mathrm{d} T$\n",
    "\n",
    "where $\\rho$ is the density of the material in the box. The equation for conduction is then:\n",
    "\n",
    "$\\frac{\\partial T}{\\partial t}= \\kappa \\frac{\\partial^2 T}{\\partial z^2}$.\n",
    "\n",
    "The the solution to this equation (i.e. 1D cooling of a semi-infinite half space) is:\n",
    "\n",
    "$T(z,t) = T_{m} \\mathrm{erf}(\\frac{z}{2 \\sqrt{\\kappa t}})$.\n",
    "\n",
    "The heat loss from the cooling lithosphere can be computed from this temperature distribution. The heat flow is proportional to the temperature gradient. The heat flowing out of a semi-infinite half-space is thus obtained by differentiating the above equation for $T(z,t)$ with respect to $z$:\n",
    "\n",
    "$\\begin{matrix}\n",
    "q_{z} & = k\\frac{\\partial T}{\\partial z} =\\frac{\\partial \\eta }{\\partial z}\\frac{\\partial T }{\\partial  \\eta} \\\\ \n",
    " &  = k\\frac{1}{2 \\sqrt{\\kappa t}}\\frac{\\partial T_{m} \\mathrm{erf}(\\eta)}{\\partial \\eta}  \\\\\n",
    " & = \\frac{k T_{m}}{2 \\sqrt{\\kappa t}}\\frac{\\partial }{\\partial \\eta} \\frac{2}{\\sqrt{\\pi}}\\left \\{ \\int_{0}^{\\eta} e^{-u^{2}}\\mathrm{d}u\\right \\}\n",
    "\\end{matrix}$\n",
    "\n",
    "which simplifies to \n",
    "\n",
    "\n",
    "$q_{z}= \\frac{k T_{m}}{2 \\sqrt{\\kappa t}} e^{-\\eta^{2}}$\n",
    "\n",
    "At the surface, $z=0$, $\\eta=0$, and exp($-\\eta^2$)=1. The surface heat flow at time $t$ is\n",
    "\n",
    "$q_{z} = \\frac{kT_{m}}{\\sqrt{\\pi \\kappa t}}$\n",
    "\n",
    "The semi-infinite half-space is quite a good model for the cooling of oceanic lithosphere. The oceanic heat flow indeed varies with distance from an oceanic ridge as $1/\\sqrt{t}$, where $t$ is the corresponding age of the lithosphere."
   ]
  },
  {
   "cell_type": "markdown",
   "metadata": {},
   "source": [
    "<img src=\"Figures/global_heat_flow.png\" width=700>\n",
    "\n",
    "> Source: Fundamentals of Geophysics (2nd Edition) Lowrie, W."
   ]
  },
  {
   "cell_type": "markdown",
   "metadata": {},
   "source": [
    "The heat flow is highest near to the ridge and decreases with increasing distane from it. Older lithosphere cools slightly less repidly, so an exponential decay model works better. The decrease in heat flow with age is explained by a global model called the Global Depth and Heat Flow model (GDH1). The model predicts the following relationships between heat flow ($q$, mW m$^{-2}$) and age ($t$, Ma): \n",
    "\n",
    "$q(t) =k\\frac{T_{m}}{\\sqrt{\\pi \\kappa t}} = 510 t^{-1/2} \\quad \\quad (t\\leqslant 55 Ma)$\n",
    "\n",
    "$q(t) = q_{s}[1 + 2 \\mathrm{exp}(-\\kappa \\pi^{2} t / a^{2})] = 48 + 96 \\mathrm{exp}(-0.0278t)\\quad \\quad (t > 55 Ma)$\n",
    "\n",
    "Here $q_{s}$ is the asymptotic heat flow, to which the heat flow decreases over very old oceanic crust ($ \\approx$ 48 mW m$^{-2}$), $a$ is the asymptotic thickness of old oceanic lithosphere ($ \\approx$ 95 km), and $\\kappa$ is its thermal diffusivity ($\\approx 0.8 \\times 10^{–6}$ m$^{2}$ s$^{-1}$)."
   ]
  },
  {
   "cell_type": "markdown",
   "metadata": {},
   "source": [
    "<img src=\"Figures/depth_age_setup.png\" width=500>\n",
    "\n",
    "> Source: Fundamentals of Geophysics (2nd Edition) Lowrie, W."
   ]
  },
  {
   "cell_type": "markdown",
   "metadata": {},
   "source": [
    "The ridge system is isostatically compensated. As hot material injected at the ridge crest cools, its volume contracts and its density increases. To maintain isostatic equilibrium a vertical column sinks into the supporting substratum as it cools. Consequently, the depth of the ocean floor (the top surface of the column) is expected to increase with age of the lithosphere. The cooling half-space model predicts an increase in depth proportional to , where t is the age of the lithosphere, and this is observed up to an age of about 20 Ma. Beyond 20 Ma the data are better fitted by an exponential decay. The optimum relationships between bathymetry ($b$, m) and age ($t$, Ma) can be written\n",
    "\n",
    "$b(t) = b_{r} + w = b_{r} + \\frac{2 \\alpha \\rho_{m}T_{m} \\sqrt{\\kappa}}{\\sqrt{\\pi} (\\rho_{m}-\\rho_{w})} \\sqrt{t} \\quad \\quad (t< 20 Ma)$\n",
    "\n",
    "$b(t) = b_{r} + b_{s}[1 - (8/\\pi^{2}) \\mathrm{exp}(-\\kappa \\pi^{2} t / a^{2})]\\quad \\quad (t \\geqslant 20 Ma)$\n",
    "\n",
    "where $b_{r}$ is the mean bathymetric-depth of the ocean floor at ridge crests, $b_s$ is the asymptotic subsidence of old lithosphere and the other parameters are as before.\n",
    "\n",
    "These notes are paraphrased and abridged from Fundamentals of Geophysics (2nd Edition) Lowrie, W."
   ]
  },
  {
   "cell_type": "markdown",
   "metadata": {},
   "source": [
    "<img src=\"Figures/Stein_1992_fig1.png\" width=500>\n",
    "\n",
    "> Source: Stein, C. and Stein S. (1992). _A model for the global variation in oceanic depth and heat flow with lithospheric age_. Nature, 359, 123-129."
   ]
  },
  {
   "cell_type": "markdown",
   "metadata": {},
   "source": [
    "GDH1 model for bathymetry:\n",
    "\n",
    "$b(t) = -2600 - 365 \\sqrt{t} \\quad  \\quad        t < 20$ Myr\n",
    "\n",
    "$b(t) = -5651 + 2473 e^{-0.0278t} \\quad          t \\geqslant 20$ Myr\n",
    "\n",
    "Note the sign change from the paper because we're using a -z down sign convention. "
   ]
  },
  {
   "cell_type": "code",
   "execution_count": null,
   "metadata": {},
   "outputs": [],
   "source": [
    "# Build the GDH1 model\n",
    "GDH1_t=np.arange(0,55,1); # age in Myr\n",
    "GDH1_bath=np.zeros(len(GDH1_t)) # initialize size of depth array\n",
    "GDH1_bath[GDH1_t<20]=...; # GDH1 model for bathymetry for young ages (<20 Myr)\n",
    "GDH1_bath[GDH1_t>=20]=...; # GDH1 model for bathymetry for old ages (>20 Myr)\n",
    "\n",
    "\n",
    "# plot the GDH1 model\n"
   ]
  },
  {
   "cell_type": "markdown",
   "metadata": {},
   "source": [
    "##  Part 2: Bathymetry and Age, Data"
   ]
  },
  {
   "cell_type": "markdown",
   "metadata": {},
   "source": [
    "We'll look at bathymetry data from several surveys around the pacific, and ages from our global age model."
   ]
  },
  {
   "cell_type": "code",
   "execution_count": null,
   "metadata": {},
   "outputs": [],
   "source": [
    "# Load the bathymetry data\n",
    "pacific_data=pd.read_table('nbp9707.m77t')\n",
    "pacific_data=pacific_data[~np.isnan(pacific_data.CORR_DEPTH)]\n",
    "pacific_data = pacific_data[(pacific_data.LON>=-126.0) & (pacific_data.LON<=-95.0)]\n",
    "pac_lat=pacific_data.LAT;\n",
    "pac_lon=pacific_data.LON;\n",
    "pac_depth=pacific_data.CORR_DEPTH;\n",
    "pac_bath=-1*pac_depth;\n",
    "\n",
    "south_pacific_data1=pd.read_table('elt42.m77t')\n",
    "south_pacific_data1=south_pacific_data1[~np.isnan(south_pacific_data1.CORR_DEPTH)]\n",
    "south_pacific_data1 = south_pacific_data1[(south_pacific_data1.LON>=-180.0) & (south_pacific_data1.LON<=-150.0)]\n",
    "south_pac_lat1=south_pacific_data1.LAT;\n",
    "south_pac_lon1=south_pacific_data1.LON;\n",
    "south_pac_depth1=south_pacific_data1.CORR_DEPTH;\n",
    "south_pac_bath1=-1*south_pac_depth1;\n",
    "\n",
    "south_pacific_data2=pd.read_table('nbp95-7.m77t')\n",
    "south_pacific_data2=south_pacific_data2[~np.isnan(south_pacific_data2.CORR_DEPTH)]\n",
    "south_pacific_data2 = south_pacific_data2[(south_pacific_data2.LON>=-160.0) & (south_pacific_data2.LON<=-130.0)]\n",
    "south_pac_lat2=south_pacific_data2.LAT;\n",
    "south_pac_lon2=south_pacific_data2.LON;\n",
    "south_pac_depth2=south_pacific_data2.CORR_DEPTH;\n",
    "south_pac_bath2=-1*south_pac_depth2;\n",
    "\n",
    "\n"
   ]
  },
  {
   "cell_type": "markdown",
   "metadata": {},
   "source": [
    "Open a track line from the Chile Ridge from file 'nbp97-4a.m77t'. Remove rows where depth is a nan. Select out rows where longitude is between -105 and -88 degrees. Declare variables for the latitude, longitude, and bathymetry."
   ]
  },
  {
   "cell_type": "code",
   "execution_count": null,
   "metadata": {},
   "outputs": [],
   "source": []
  },
  {
   "cell_type": "code",
   "execution_count": null,
   "metadata": {},
   "outputs": [],
   "source": [
    "# Load the age data\n",
    "age_data = pd.read_csv('age.csv')\n",
    "\n",
    "age_longitude = np.asarray(age_data.Longitude)\n",
    "age_latitude = np.asarray(age_data.Latitude)\n",
    "age = np.asarray(age_data.Age_Myr)"
   ]
  },
  {
   "cell_type": "markdown",
   "metadata": {},
   "source": [
    "A reminder about what the age data looks like:\n",
    "\n",
    "<img src=\"Figures/age_map.png\" >"
   ]
  },
  {
   "cell_type": "code",
   "execution_count": null,
   "metadata": {},
   "outputs": [],
   "source": [
    "#subgrids of age_grid for 2d interpolation\n",
    "pac_subgrid_lon = age_longitude[(age_longitude>-126) & (age_longitude<-95) & (age_latitude<(-0.1935*age_longitude-69.5)) & (age_latitude>(-0.1935*age_longitude-71.5))]\n",
    "pac_subgrid_lat = age_latitude[(age_longitude>-126) & (age_longitude<-95) & (age_latitude<(-0.1935*age_longitude-69.5)) & (age_latitude>(-0.1935*age_longitude-71.5))]\n",
    "pac_subgrid_age = age[(age_longitude>-126) & (age_longitude<-95) & (age_latitude<(-0.1935*age_longitude-69.5)) & (age_latitude>(-0.1935*age_longitude-71.5))]\n",
    "\n",
    "south_pac_subgrid_lon = age_longitude[(age_longitude>-180) & (age_longitude<-150) & (age_latitude<(-0.26*age_longitude-104)) & (age_latitude>(-0.26*age_longitude-106))]\n",
    "south_pac_subgrid_lat = age_latitude[(age_longitude>-180) & (age_longitude<-150) & (age_latitude<(-0.26*age_longitude-104)) & (age_latitude>(-0.26*age_longitude-106))]\n",
    "south_pac_subgrid_age = age[(age_longitude>-180) & (age_longitude<-150) & (age_latitude<(-0.26*age_longitude-104)) & (age_latitude>(-0.26*age_longitude-106))]\n",
    "\n",
    "south_pac_subgrid_lon2 = age_longitude[(age_longitude>-160) & (age_longitude<-130) & (age_latitude<(-0.1628*age_longitude-84)) & (age_latitude>(-0.1628*age_longitude-87))]\n",
    "south_pac_subgrid_lat2 = age_latitude[(age_longitude>-160) & (age_longitude<-130) & (age_latitude<(-0.1628*age_longitude-84)) & (age_latitude>(-0.1628*age_longitude-87))]\n",
    "south_pac_subgrid_age2 = age[(age_longitude>-160) & (age_longitude<-130) & (age_latitude<(-0.1628*age_longitude-84)) & (age_latitude>(-0.1628*age_longitude-87))]\n",
    "\n"
   ]
  },
  {
   "cell_type": "markdown",
   "metadata": {},
   "source": [
    "For the Chile Ridge build a subgrid that pulls values from `age_longitude`, `age_latitude`, and `age` that have longitudes between -105 and -88 degrees and latitudes between -37 and -38 degrees."
   ]
  },
  {
   "cell_type": "code",
   "execution_count": null,
   "metadata": {},
   "outputs": [],
   "source": []
  },
  {
   "cell_type": "code",
   "execution_count": null,
   "metadata": {},
   "outputs": [],
   "source": [
    "#Make a Map of one subgrid\n",
    "\n",
    "#Set Corners of Map\n",
    "lat0=-45\n",
    "lat1=-53\n",
    "lon0=-127\n",
    "lon1=-94\n",
    "tickstep=2.0 #for axes\n",
    "latticks=np.arange(lat0,lat1+tickstep,tickstep)\n",
    "lonticks=np.arange(lon0,lon1+tickstep,tickstep)\n",
    "\n",
    "plt.figure(1,(15,15))\n",
    "ax = plt.axes(projection=ccrs.PlateCarree())\n",
    "ax.set_extent([lon0, lon1, lat0, lat1], crs=ccrs.PlateCarree())\n",
    "ax.set_aspect('equal')\n",
    "ax.set_xticks(lonticks)\n",
    "ax.set_yticks(latticks, crs=ccrs.PlateCarree())\n",
    "ax.set(xlabel='Longitude', ylabel='Latitude', title='East Pacific Rise Subgrid')\n",
    "\n",
    "\n",
    "x=...\n",
    "y=...\n",
    "z=...\n",
    "c = plt.cm.jet_r(z/max(age))\n",
    "\n",
    "plt.scatter(x, y, facecolors=c, marker='.') # ages from age grid\n",
    "plt.scatter(x[z<0.25], y[z<0.25], facecolors='white', marker='.') #highlight ridge\n",
    "plt.plot(...,...,'.k') # track line where bathymetry data was collected\n",
    "\n",
    "\n",
    "plt.show()"
   ]
  },
  {
   "cell_type": "markdown",
   "metadata": {},
   "source": [
    "We want to interpolate the ages for the same locations as the bathymetry measurement. The `scipy` function `interpolate.Rbf` is really nice for doing this. You give `interpolate.Rbf` the x,y,z values of your function surface - in our case longitude, latitude, and age - to setup your interpolation function. Then you use that interpolation function to pickout the age values from the bathymetry measurements lon,lat locations. The new interoplated locations can have smaller spacing than the original scatter data (ages in our case)."
   ]
  },
  {
   "cell_type": "code",
   "execution_count": null,
   "metadata": {},
   "outputs": [],
   "source": [
    "interp_pac = interpolate.Rbf(pac_subgrid_lon, pac_subgrid_lat, pac_subgrid_age, kind='multiquadratic') # interpolate subgridded ages\n",
    "pac_age = interp_pac(pac_lon, pac_lat) # lon and lat values from bathymetry tracks, returns the age at that location\n",
    "\n",
    "interp_south_pac1 = interpolate.Rbf(south_pac_subgrid_lon, south_pac_subgrid_lat, south_pac_subgrid_age, kind='multiquadratic') # interpolate subgridded ages\n",
    "south_pac_age1 = interp_south_pac1(south_pac_lon1, south_pac_lat1) # lon and lat values from bathymetry tracks, returns the age at that location\n",
    "\n",
    "interp_south_pac2 = interpolate.Rbf(south_pac_subgrid_lon2, south_pac_subgrid_lat2, south_pac_subgrid_age2, kind='multiquadratic') # interpolate subgridded ages\n",
    "south_pac_age2 = interp_south_pac2(south_pac_lon2, south_pac_lat2) # lon and lat values from bathymetry tracks, returns the age at that location\n",
    "\n"
   ]
  },
  {
   "cell_type": "markdown",
   "metadata": {},
   "source": [
    "Build an interpolation function using `interpolate.Rbf` and the Chile Ridge subgrid, then apply it to the locations of the bathymetry measurements over that ridge."
   ]
  },
  {
   "cell_type": "code",
   "execution_count": null,
   "metadata": {},
   "outputs": [],
   "source": []
  },
  {
   "cell_type": "markdown",
   "metadata": {},
   "source": [
    "Plot our data: age and bathymetry."
   ]
  },
  {
   "cell_type": "code",
   "execution_count": null,
   "metadata": {},
   "outputs": [],
   "source": [
    "plt.figure(1,(20,10))\n",
    "plt.plot(chile_age,chile_bath,'.',color='firebrick');\n",
    "plt.plot(south_pac_age1,south_pac_bath1,'.',color='lightcoral');\n",
    "plt.plot(south_pac_age2,south_pac_bath2,'.',color='orange');\n",
    "plt.plot(pac_age,pac_bath,'.',color='red');\n",
    "plt.legend(['Chile','EPR','PAR-1','PAR-2'],fontsize=16)\n",
    "plt.xlabel('Age, Myr',fontsize=16);\n",
    "plt.ylabel('Bathymentry, m',fontsize=16);"
   ]
  },
  {
   "cell_type": "markdown",
   "metadata": {},
   "source": [
    "##  Part 3: Bathymetry and Age, Model"
   ]
  },
  {
   "cell_type": "markdown",
   "metadata": {},
   "source": [
    "We'll start from the GDH1 model of Stein and Stein, 1992."
   ]
  },
  {
   "cell_type": "code",
   "execution_count": null,
   "metadata": {},
   "outputs": [],
   "source": [
    "# plot our data and the GHD1 model\n",
    "plt.figure(1,(20,10))\n",
    "plt.plot(chile_age,chile_bath,'.',color='firebrick');\n",
    "plt.plot(south_pac_age1,south_pac_bath1,'.',color='lightcoral');\n",
    "plt.plot(south_pac_age2,south_pac_bath2,'.',color='orange');\n",
    "plt.plot(pac_age,pac_bath,'.',color='red');\n",
    "plt.plot(GDH1_t,GDH1_bath,'-k',Linewidth=3);\n",
    "plt.legend(['Chile','EPR','PAR-1','PAR-2','GDH1'],fontsize=16)\n",
    "plt.xlabel('Age, Myr',fontsize=16);\n",
    "plt.ylabel('Bathymentry, m',fontsize=16);"
   ]
  },
  {
   "cell_type": "markdown",
   "metadata": {},
   "source": [
    "Time to make our own model of bathymetry as a function of age! We'll use `polyfit` and `polyval` along with our knowledge about the predicted relationship."
   ]
  },
  {
   "cell_type": "code",
   "execution_count": null,
   "metadata": {},
   "outputs": [],
   "source": [
    "#use hstack to combine all the data tracks\n",
    "all_age = np.hstack((chile_age, south_pac_age1, south_pac_age2, pac_age));\n",
    "all_bath = np.hstack((chile_bath, south_pac_bath1, south_pac_bath2, pac_bath));\n",
    "\n",
    "# fit the young data (age<20Myr)\n",
    "young_age = all_age[all_age<20];\n",
    "young_bath = all_bath[all_age<20];\n",
    "soln1=np.polyfit(...,...,...)\n",
    "Model_young_bath = np.polyval(...,...)\n",
    "\n",
    "\n",
    "# fit the old data (age>=20Myr)\n",
    "old_age = all_age[all_age>=20];\n",
    "old_bath = all_bath[all_age>=20];\n",
    "soln2=np.polyfit(...,...,...)\n",
    "Model_old_bath = np.polyval(...,...)\n"
   ]
  },
  {
   "cell_type": "markdown",
   "metadata": {},
   "source": [
    "Print our model parameters"
   ]
  },
  {
   "cell_type": "code",
   "execution_count": null,
   "metadata": {},
   "outputs": [],
   "source": [
    "print ('Bathymetry of ridge: %4.1f, Young Coeff: %4.1f'% (soln1[1],soln1[0]))\n",
    "print ('dr+ds : %4.1f, old Coeff: %4.1f'% (soln2[1],soln2[0]))"
   ]
  },
  {
   "cell_type": "markdown",
   "metadata": {},
   "source": [
    "How does our model parameters compare to those of GDH1 model?\n",
    "\n",
    "$b(t) = -2600 - 365 \\sqrt{t} \\quad  \\quad        t < 20$ Myr\n",
    "\n",
    "$b(t) = -5651 + 2473 e^{-0.0278t} \\quad          t \\geqslant 20$ Myr"
   ]
  },
  {
   "cell_type": "markdown",
   "metadata": {},
   "source": [
    "_Write your answer here._"
   ]
  },
  {
   "cell_type": "markdown",
   "metadata": {},
   "source": [
    "Before we plot our model, how do you expect it differ from GDH1? Are the ridge depth and asymptotic depth deeper or shallower? "
   ]
  },
  {
   "cell_type": "code",
   "execution_count": null,
   "metadata": {},
   "outputs": [],
   "source": [
    "# plot our data, the GHD1 model, and our model\n",
    "plt.figure(1,(20,10))\n"
   ]
  },
  {
   "cell_type": "markdown",
   "metadata": {},
   "source": [
    "What are some reasons for the differences between our model and GDH1 (what did they do differently)?"
   ]
  },
  {
   "cell_type": "markdown",
   "metadata": {},
   "source": [
    "_Write your answer here._"
   ]
  },
  {
   "cell_type": "markdown",
   "metadata": {},
   "source": [
    "If we assume all the same model values for densities, coeff. of thermal expansion, and thermal diffusivity that Stein and Stein (1992) used, what mantle temperature does out model predict?  \n",
    "\n",
    "$C_{young} \\propto Tm$ \n",
    "\n",
    "$\\frac{Tm_{class}}{C_{class}} = \\frac{Tm_{GDH1}}{C_{GDH1}} $ \n",
    "\n",
    "$Tm_{class} = \\frac{Tm_{GDH1}\\times C_{class}}{C_{GDH1}}$"
   ]
  },
  {
   "cell_type": "code",
   "execution_count": null,
   "metadata": {},
   "outputs": [],
   "source": [
    "GDH1_Tm = 1450;\n",
    "GDH1_coeff = -365;\n",
    "Tm_class=...\n",
    "print ('Mantle Temp : %4.0f degrees Celsius'% (Tm_class))"
   ]
  },
  {
   "cell_type": "markdown",
   "metadata": {},
   "source": [
    "Does this agree with the mantle temperature predicted by Stein and Stein (1992) within their stated uncertainty?"
   ]
  },
  {
   "cell_type": "markdown",
   "metadata": {},
   "source": [
    "_Write your answer here._"
   ]
  },
  {
   "cell_type": "code",
   "execution_count": null,
   "metadata": {},
   "outputs": [],
   "source": []
  }
 ],
 "metadata": {
  "kernelspec": {
   "display_name": "Python 3",
   "language": "python",
   "name": "python3"
  },
  "language_info": {
   "codemirror_mode": {
    "name": "ipython",
    "version": 3
   },
   "file_extension": ".py",
   "mimetype": "text/x-python",
   "name": "python",
   "nbconvert_exporter": "python",
   "pygments_lexer": "ipython3",
   "version": "3.7.0"
  }
 },
 "nbformat": 4,
 "nbformat_minor": 2
}
